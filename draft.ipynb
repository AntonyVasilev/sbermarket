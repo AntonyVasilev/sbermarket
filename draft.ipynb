{
 "cells": [
  {
   "cell_type": "code",
   "execution_count": 1,
   "metadata": {
    "colab": {
     "base_uri": "https://localhost:8080/"
    },
    "executionInfo": {
     "elapsed": 225,
     "status": "ok",
     "timestamp": 1630667848037,
     "user": {
      "displayName": "Antony Vasilev",
      "photoUrl": "https://lh3.googleusercontent.com/a-/AOh14GilGtrNFuVwkeguPc63nl_U9jPzz3QJ2HseOLomwA=s64",
      "userId": "06016057077233784130"
     },
     "user_tz": -180
    },
    "id": "4DXd3mcM8mjF",
    "outputId": "d3efe11c-4a69-4fb5-f094-8952e5cb1a59"
   },
   "outputs": [
    {
     "name": "stdout",
     "output_type": "stream",
     "text": [
      "Drive already mounted at /gdrive; to attempt to forcibly remount, call drive.mount(\"/gdrive\", force_remount=True).\n"
     ]
    }
   ],
   "source": [
    "# from google.colab import drive\n",
    "# drive.mount('/gdrive')"
   ]
  },
  {
   "cell_type": "code",
   "execution_count": 2,
   "metadata": {
    "colab": {
     "base_uri": "https://localhost:8080/"
    },
    "executionInfo": {
     "elapsed": 3778,
     "status": "ok",
     "timestamp": 1630667852165,
     "user": {
      "displayName": "Antony Vasilev",
      "photoUrl": "https://lh3.googleusercontent.com/a-/AOh14GilGtrNFuVwkeguPc63nl_U9jPzz3QJ2HseOLomwA=s64",
      "userId": "06016057077233784130"
     },
     "user_tz": -180
    },
    "id": "LvjlFv5Ba1yJ",
    "outputId": "d977504b-11bc-436b-9703-d813f7c8af2f"
   },
   "outputs": [
    {
     "name": "stdout",
     "output_type": "stream",
     "text": [
      "Requirement already satisfied: lightfm in /usr/local/lib/python3.7/dist-packages (1.16)\n",
      "Requirement already satisfied: numpy in /usr/local/lib/python3.7/dist-packages (from lightfm) (1.19.5)\n",
      "Requirement already satisfied: requests in /usr/local/lib/python3.7/dist-packages (from lightfm) (2.23.0)\n",
      "Requirement already satisfied: scipy>=0.17.0 in /usr/local/lib/python3.7/dist-packages (from lightfm) (1.4.1)\n",
      "Requirement already satisfied: scikit-learn in /usr/local/lib/python3.7/dist-packages (from lightfm) (0.22.2.post1)\n",
      "Requirement already satisfied: chardet<4,>=3.0.2 in /usr/local/lib/python3.7/dist-packages (from requests->lightfm) (3.0.4)\n",
      "Requirement already satisfied: idna<3,>=2.5 in /usr/local/lib/python3.7/dist-packages (from requests->lightfm) (2.10)\n",
      "Requirement already satisfied: urllib3!=1.25.0,!=1.25.1,<1.26,>=1.21.1 in /usr/local/lib/python3.7/dist-packages (from requests->lightfm) (1.24.3)\n",
      "Requirement already satisfied: certifi>=2017.4.17 in /usr/local/lib/python3.7/dist-packages (from requests->lightfm) (2021.5.30)\n",
      "Requirement already satisfied: joblib>=0.11 in /usr/local/lib/python3.7/dist-packages (from scikit-learn->lightfm) (1.0.1)\n"
     ]
    }
   ],
   "source": [
    "# !pip install lightfm"
   ]
  },
  {
   "cell_type": "code",
   "execution_count": 2,
   "metadata": {
    "executionInfo": {
     "elapsed": 355,
     "status": "ok",
     "timestamp": 1630667852517,
     "user": {
      "displayName": "Antony Vasilev",
      "photoUrl": "https://lh3.googleusercontent.com/a-/AOh14GilGtrNFuVwkeguPc63nl_U9jPzz3QJ2HseOLomwA=s64",
      "userId": "06016057077233784130"
     },
     "user_tz": -180
    },
    "id": "HqQF-5vk80_7"
   },
   "outputs": [],
   "source": [
    "import numpy as np\n",
    "import pandas as pd\n",
    "from datetime import datetime\n",
    "from sklearn.metrics import f1_score\n",
    "import matplotlib.pyplot as plt\n",
    "%matplotlib inline\n",
    "\n",
    "# Для работы с матрицами\n",
    "from scipy.sparse import csr_matrix, coo_matrix\n",
    "from implicit.nearest_neighbours import bm25_weight\n",
    "from lightfm import LightFM\n",
    "\n",
    "import warnings\n",
    "warnings.filterwarnings('ignore')"
   ]
  },
  {
   "cell_type": "code",
   "execution_count": 3,
   "metadata": {
    "executionInfo": {
     "elapsed": 1448,
     "status": "ok",
     "timestamp": 1630667853964,
     "user": {
      "displayName": "Antony Vasilev",
      "photoUrl": "https://lh3.googleusercontent.com/a-/AOh14GilGtrNFuVwkeguPc63nl_U9jPzz3QJ2HseOLomwA=s64",
      "userId": "06016057077233784130"
     },
     "user_tz": -180
    },
    "id": "L5ytV0pw86p8"
   },
   "outputs": [],
   "source": [
    "# df = pd.read_csv('/gdrive/My Drive/Colab Notebooks/sber/train.csv')\n",
    "df = pd.read_csv('train.csv')"
   ]
  },
  {
   "cell_type": "code",
   "execution_count": 4,
   "metadata": {
    "colab": {
     "base_uri": "https://localhost:8080/"
    },
    "executionInfo": {
     "elapsed": 13,
     "status": "ok",
     "timestamp": 1630667853965,
     "user": {
      "displayName": "Antony Vasilev",
      "photoUrl": "https://lh3.googleusercontent.com/a-/AOh14GilGtrNFuVwkeguPc63nl_U9jPzz3QJ2HseOLomwA=s64",
      "userId": "06016057077233784130"
     },
     "user_tz": -180
    },
    "id": "SiTQpFim9Fs7",
    "outputId": "0471d3bd-b286-43ff-f09f-da3a71ef4365"
   },
   "outputs": [
    {
     "data": {
      "text/plain": [
       "(3123064, 3)"
      ]
     },
     "execution_count": 4,
     "metadata": {},
     "output_type": "execute_result"
    }
   ],
   "source": [
    "df.shape"
   ]
  },
  {
   "cell_type": "code",
   "execution_count": 5,
   "metadata": {
    "colab": {
     "base_uri": "https://localhost:8080/",
     "height": 204
    },
    "executionInfo": {
     "elapsed": 8,
     "status": "ok",
     "timestamp": 1630667853965,
     "user": {
      "displayName": "Antony Vasilev",
      "photoUrl": "https://lh3.googleusercontent.com/a-/AOh14GilGtrNFuVwkeguPc63nl_U9jPzz3QJ2HseOLomwA=s64",
      "userId": "06016057077233784130"
     },
     "user_tz": -180
    },
    "id": "rwTHtwRQ9H-r",
    "outputId": "21030f94-b5cc-41b9-bb89-e6a3a8ded93c"
   },
   "outputs": [
    {
     "data": {
      "text/html": [
       "<div>\n",
       "<style scoped>\n",
       "    .dataframe tbody tr th:only-of-type {\n",
       "        vertical-align: middle;\n",
       "    }\n",
       "\n",
       "    .dataframe tbody tr th {\n",
       "        vertical-align: top;\n",
       "    }\n",
       "\n",
       "    .dataframe thead th {\n",
       "        text-align: right;\n",
       "    }\n",
       "</style>\n",
       "<table border=\"1\" class=\"dataframe\">\n",
       "  <thead>\n",
       "    <tr style=\"text-align: right;\">\n",
       "      <th></th>\n",
       "      <th>user_id</th>\n",
       "      <th>order_completed_at</th>\n",
       "      <th>cart</th>\n",
       "    </tr>\n",
       "  </thead>\n",
       "  <tbody>\n",
       "    <tr>\n",
       "      <th>0</th>\n",
       "      <td>2</td>\n",
       "      <td>2015-03-22 09:25:46</td>\n",
       "      <td>399</td>\n",
       "    </tr>\n",
       "    <tr>\n",
       "      <th>1</th>\n",
       "      <td>2</td>\n",
       "      <td>2015-03-22 09:25:46</td>\n",
       "      <td>14</td>\n",
       "    </tr>\n",
       "    <tr>\n",
       "      <th>2</th>\n",
       "      <td>2</td>\n",
       "      <td>2015-03-22 09:25:46</td>\n",
       "      <td>198</td>\n",
       "    </tr>\n",
       "    <tr>\n",
       "      <th>3</th>\n",
       "      <td>2</td>\n",
       "      <td>2015-03-22 09:25:46</td>\n",
       "      <td>88</td>\n",
       "    </tr>\n",
       "    <tr>\n",
       "      <th>4</th>\n",
       "      <td>2</td>\n",
       "      <td>2015-03-22 09:25:46</td>\n",
       "      <td>157</td>\n",
       "    </tr>\n",
       "  </tbody>\n",
       "</table>\n",
       "</div>"
      ],
      "text/plain": [
       "   user_id   order_completed_at  cart\n",
       "0        2  2015-03-22 09:25:46   399\n",
       "1        2  2015-03-22 09:25:46    14\n",
       "2        2  2015-03-22 09:25:46   198\n",
       "3        2  2015-03-22 09:25:46    88\n",
       "4        2  2015-03-22 09:25:46   157"
      ]
     },
     "execution_count": 5,
     "metadata": {},
     "output_type": "execute_result"
    }
   ],
   "source": [
    "df.head()"
   ]
  },
  {
   "cell_type": "code",
   "execution_count": 6,
   "metadata": {
    "colab": {
     "base_uri": "https://localhost:8080/",
     "height": 204
    },
    "executionInfo": {
     "elapsed": 8,
     "status": "ok",
     "timestamp": 1630667853966,
     "user": {
      "displayName": "Antony Vasilev",
      "photoUrl": "https://lh3.googleusercontent.com/a-/AOh14GilGtrNFuVwkeguPc63nl_U9jPzz3QJ2HseOLomwA=s64",
      "userId": "06016057077233784130"
     },
     "user_tz": -180
    },
    "id": "Z9CGHmO_S3aj",
    "outputId": "8d33ed79-ec7a-4ca4-fc89-a48a9e659b50"
   },
   "outputs": [
    {
     "data": {
      "text/html": [
       "<div>\n",
       "<style scoped>\n",
       "    .dataframe tbody tr th:only-of-type {\n",
       "        vertical-align: middle;\n",
       "    }\n",
       "\n",
       "    .dataframe tbody tr th {\n",
       "        vertical-align: top;\n",
       "    }\n",
       "\n",
       "    .dataframe thead th {\n",
       "        text-align: right;\n",
       "    }\n",
       "</style>\n",
       "<table border=\"1\" class=\"dataframe\">\n",
       "  <thead>\n",
       "    <tr style=\"text-align: right;\">\n",
       "      <th></th>\n",
       "      <th>user_id</th>\n",
       "      <th>order_completed_at</th>\n",
       "      <th>cart</th>\n",
       "    </tr>\n",
       "  </thead>\n",
       "  <tbody>\n",
       "    <tr>\n",
       "      <th>3123059</th>\n",
       "      <td>12702</td>\n",
       "      <td>2020-09-03 23:45:45</td>\n",
       "      <td>441</td>\n",
       "    </tr>\n",
       "    <tr>\n",
       "      <th>3123060</th>\n",
       "      <td>12702</td>\n",
       "      <td>2020-09-03 23:45:45</td>\n",
       "      <td>92</td>\n",
       "    </tr>\n",
       "    <tr>\n",
       "      <th>3123061</th>\n",
       "      <td>12702</td>\n",
       "      <td>2020-09-03 23:45:45</td>\n",
       "      <td>431</td>\n",
       "    </tr>\n",
       "    <tr>\n",
       "      <th>3123062</th>\n",
       "      <td>12702</td>\n",
       "      <td>2020-09-03 23:45:45</td>\n",
       "      <td>24</td>\n",
       "    </tr>\n",
       "    <tr>\n",
       "      <th>3123063</th>\n",
       "      <td>12702</td>\n",
       "      <td>2020-09-03 23:45:45</td>\n",
       "      <td>430</td>\n",
       "    </tr>\n",
       "  </tbody>\n",
       "</table>\n",
       "</div>"
      ],
      "text/plain": [
       "         user_id   order_completed_at  cart\n",
       "3123059    12702  2020-09-03 23:45:45   441\n",
       "3123060    12702  2020-09-03 23:45:45    92\n",
       "3123061    12702  2020-09-03 23:45:45   431\n",
       "3123062    12702  2020-09-03 23:45:45    24\n",
       "3123063    12702  2020-09-03 23:45:45   430"
      ]
     },
     "execution_count": 6,
     "metadata": {},
     "output_type": "execute_result"
    }
   ],
   "source": [
    "df.tail()"
   ]
  },
  {
   "cell_type": "code",
   "execution_count": 7,
   "metadata": {
    "executionInfo": {
     "elapsed": 751,
     "status": "ok",
     "timestamp": 1630667854711,
     "user": {
      "displayName": "Antony Vasilev",
      "photoUrl": "https://lh3.googleusercontent.com/a-/AOh14GilGtrNFuVwkeguPc63nl_U9jPzz3QJ2HseOLomwA=s64",
      "userId": "06016057077233784130"
     },
     "user_tz": -180
    },
    "id": "tjYXME_SRJOv"
   },
   "outputs": [],
   "source": [
    "# Привожу признак \"order_completed_at\" к формату datetime\n",
    "df.order_completed_at = pd.to_datetime(df.order_completed_at, format='%Y-%m-%d %H:%M:%S')"
   ]
  },
  {
   "cell_type": "code",
   "execution_count": 8,
   "metadata": {
    "colab": {
     "base_uri": "https://localhost:8080/"
    },
    "executionInfo": {
     "elapsed": 18,
     "status": "ok",
     "timestamp": 1630667854711,
     "user": {
      "displayName": "Antony Vasilev",
      "photoUrl": "https://lh3.googleusercontent.com/a-/AOh14GilGtrNFuVwkeguPc63nl_U9jPzz3QJ2HseOLomwA=s64",
      "userId": "06016057077233784130"
     },
     "user_tz": -180
    },
    "id": "1HtKM7pyRRUe",
    "outputId": "41b21333-996c-4bb6-fbbe-18d39aeebf3e"
   },
   "outputs": [
    {
     "name": "stdout",
     "output_type": "stream",
     "text": [
      "<class 'pandas.core.frame.DataFrame'>\n",
      "RangeIndex: 3123064 entries, 0 to 3123063\n",
      "Data columns (total 3 columns):\n",
      " #   Column              Dtype         \n",
      "---  ------              -----         \n",
      " 0   user_id             int64         \n",
      " 1   order_completed_at  datetime64[ns]\n",
      " 2   cart                int64         \n",
      "dtypes: datetime64[ns](1), int64(2)\n",
      "memory usage: 71.5 MB\n"
     ]
    }
   ],
   "source": [
    "df.info()"
   ]
  },
  {
   "cell_type": "code",
   "execution_count": 9,
   "metadata": {
    "colab": {
     "base_uri": "https://localhost:8080/"
    },
    "executionInfo": {
     "elapsed": 15,
     "status": "ok",
     "timestamp": 1630667854712,
     "user": {
      "displayName": "Antony Vasilev",
      "photoUrl": "https://lh3.googleusercontent.com/a-/AOh14GilGtrNFuVwkeguPc63nl_U9jPzz3QJ2HseOLomwA=s64",
      "userId": "06016057077233784130"
     },
     "user_tz": -180
    },
    "id": "75_JrR8mY2Co",
    "outputId": "73605f79-b2a8-40ad-c4b4-d21df11f1c8a"
   },
   "outputs": [
    {
     "name": "stdout",
     "output_type": "stream",
     "text": [
      "Количество пропущенных значений:\n",
      "user_id: 0\n",
      "order_completed_at: 0\n",
      "cart: 0\n"
     ]
    }
   ],
   "source": [
    "print('Количество пропущенных значений:')\n",
    "for col in df.columns.to_list():\n",
    "    print(f'{col}: {df[col].isna().sum()}')"
   ]
  },
  {
   "cell_type": "code",
   "execution_count": 10,
   "metadata": {
    "colab": {
     "base_uri": "https://localhost:8080/"
    },
    "executionInfo": {
     "elapsed": 12,
     "status": "ok",
     "timestamp": 1630667854713,
     "user": {
      "displayName": "Antony Vasilev",
      "photoUrl": "https://lh3.googleusercontent.com/a-/AOh14GilGtrNFuVwkeguPc63nl_U9jPzz3QJ2HseOLomwA=s64",
      "userId": "06016057077233784130"
     },
     "user_tz": -180
    },
    "id": "c2chW33DbFMW",
    "outputId": "f8952586-162f-4ea9-84cc-10b055acb59d"
   },
   "outputs": [
    {
     "name": "stdout",
     "output_type": "stream",
     "text": [
      "Количество пользователей: 20000\n",
      "Количество товаров: 881\n"
     ]
    }
   ],
   "source": [
    "print(f'Количество пользователей: {df.user_id.nunique()}')\n",
    "print(f'Количество товаров: {df.cart.nunique()}')"
   ]
  },
  {
   "cell_type": "code",
   "execution_count": 11,
   "metadata": {
    "colab": {
     "base_uri": "https://localhost:8080/"
    },
    "executionInfo": {
     "elapsed": 10,
     "status": "ok",
     "timestamp": 1630667854714,
     "user": {
      "displayName": "Antony Vasilev",
      "photoUrl": "https://lh3.googleusercontent.com/a-/AOh14GilGtrNFuVwkeguPc63nl_U9jPzz3QJ2HseOLomwA=s64",
      "userId": "06016057077233784130"
     },
     "user_tz": -180
    },
    "id": "LYlmOuq0RUsc",
    "outputId": "4e135038-832b-44c9-a87d-3284e1402eff"
   },
   "outputs": [
    {
     "name": "stdout",
     "output_type": "stream",
     "text": [
      "Начальная дата: 2015-03-22 09:25:46\n",
      "Конечная дата: 2020-09-03 23:45:45\n"
     ]
    }
   ],
   "source": [
    "print(f'Начальная дата: {df.order_completed_at.min()}')\n",
    "print(f'Конечная дата: {df.order_completed_at.max()}')"
   ]
  },
  {
   "cell_type": "code",
   "execution_count": 12,
   "metadata": {
    "executionInfo": {
     "elapsed": 358,
     "status": "ok",
     "timestamp": 1630667855066,
     "user": {
      "displayName": "Antony Vasilev",
      "photoUrl": "https://lh3.googleusercontent.com/a-/AOh14GilGtrNFuVwkeguPc63nl_U9jPzz3QJ2HseOLomwA=s64",
      "userId": "06016057077233784130"
     },
     "user_tz": -180
    },
    "id": "NYSeWA1tabee"
   },
   "outputs": [],
   "source": [
    "df['is_bought'] = 1"
   ]
  },
  {
   "cell_type": "markdown",
   "metadata": {
    "id": "7u7BWftZW9Yx"
   },
   "source": [
    "Разбиваю датасет на тренировочный и валидационный. Для валидации возьму заказы с датой после 1 августа 2020 года."
   ]
  },
  {
   "cell_type": "code",
   "execution_count": 13,
   "metadata": {
    "executionInfo": {
     "elapsed": 13,
     "status": "ok",
     "timestamp": 1630667855067,
     "user": {
      "displayName": "Antony Vasilev",
      "photoUrl": "https://lh3.googleusercontent.com/a-/AOh14GilGtrNFuVwkeguPc63nl_U9jPzz3QJ2HseOLomwA=s64",
      "userId": "06016057077233784130"
     },
     "user_tz": -180
    },
    "id": "TbzHHVfWW85V"
   },
   "outputs": [],
   "source": [
    "train_df = df.loc[df.order_completed_at < datetime.strptime('2020-08-01 00:00:00', '%Y-%m-%d %H:%M:%S'), :]\n",
    "valid_df = df.loc[df.order_completed_at >= datetime.strptime('2020-08-01 00:00:00', '%Y-%m-%d %H:%M:%S'), :]"
   ]
  },
  {
   "cell_type": "code",
   "execution_count": 14,
   "metadata": {
    "colab": {
     "base_uri": "https://localhost:8080/",
     "height": 111
    },
    "executionInfo": {
     "elapsed": 14,
     "status": "ok",
     "timestamp": 1630667855068,
     "user": {
      "displayName": "Antony Vasilev",
      "photoUrl": "https://lh3.googleusercontent.com/a-/AOh14GilGtrNFuVwkeguPc63nl_U9jPzz3QJ2HseOLomwA=s64",
      "userId": "06016057077233784130"
     },
     "user_tz": -180
    },
    "id": "r_2qXKTiah8r",
    "outputId": "62232609-23da-406f-d75c-8ac5f734d40b"
   },
   "outputs": [
    {
     "data": {
      "text/html": [
       "<div>\n",
       "<style scoped>\n",
       "    .dataframe tbody tr th:only-of-type {\n",
       "        vertical-align: middle;\n",
       "    }\n",
       "\n",
       "    .dataframe tbody tr th {\n",
       "        vertical-align: top;\n",
       "    }\n",
       "\n",
       "    .dataframe thead th {\n",
       "        text-align: right;\n",
       "    }\n",
       "</style>\n",
       "<table border=\"1\" class=\"dataframe\">\n",
       "  <thead>\n",
       "    <tr style=\"text-align: right;\">\n",
       "      <th></th>\n",
       "      <th>user_id</th>\n",
       "      <th>order_completed_at</th>\n",
       "      <th>cart</th>\n",
       "      <th>is_bought</th>\n",
       "    </tr>\n",
       "  </thead>\n",
       "  <tbody>\n",
       "    <tr>\n",
       "      <th>0</th>\n",
       "      <td>2</td>\n",
       "      <td>2015-03-22 09:25:46</td>\n",
       "      <td>399</td>\n",
       "      <td>1</td>\n",
       "    </tr>\n",
       "    <tr>\n",
       "      <th>1</th>\n",
       "      <td>2</td>\n",
       "      <td>2015-03-22 09:25:46</td>\n",
       "      <td>14</td>\n",
       "      <td>1</td>\n",
       "    </tr>\n",
       "  </tbody>\n",
       "</table>\n",
       "</div>"
      ],
      "text/plain": [
       "   user_id  order_completed_at  cart  is_bought\n",
       "0        2 2015-03-22 09:25:46   399          1\n",
       "1        2 2015-03-22 09:25:46    14          1"
      ]
     },
     "execution_count": 14,
     "metadata": {},
     "output_type": "execute_result"
    }
   ],
   "source": [
    "train_df.head(2)"
   ]
  },
  {
   "cell_type": "code",
   "execution_count": 15,
   "metadata": {
    "colab": {
     "base_uri": "https://localhost:8080/",
     "height": 111
    },
    "executionInfo": {
     "elapsed": 12,
     "status": "ok",
     "timestamp": 1630667855068,
     "user": {
      "displayName": "Antony Vasilev",
      "photoUrl": "https://lh3.googleusercontent.com/a-/AOh14GilGtrNFuVwkeguPc63nl_U9jPzz3QJ2HseOLomwA=s64",
      "userId": "06016057077233784130"
     },
     "user_tz": -180
    },
    "id": "FME7BVu_akXg",
    "outputId": "257e44bb-539d-4cbd-b70e-a51337c8e03e"
   },
   "outputs": [
    {
     "data": {
      "text/html": [
       "<div>\n",
       "<style scoped>\n",
       "    .dataframe tbody tr th:only-of-type {\n",
       "        vertical-align: middle;\n",
       "    }\n",
       "\n",
       "    .dataframe tbody tr th {\n",
       "        vertical-align: top;\n",
       "    }\n",
       "\n",
       "    .dataframe thead th {\n",
       "        text-align: right;\n",
       "    }\n",
       "</style>\n",
       "<table border=\"1\" class=\"dataframe\">\n",
       "  <thead>\n",
       "    <tr style=\"text-align: right;\">\n",
       "      <th></th>\n",
       "      <th>user_id</th>\n",
       "      <th>order_completed_at</th>\n",
       "      <th>cart</th>\n",
       "      <th>is_bought</th>\n",
       "    </tr>\n",
       "  </thead>\n",
       "  <tbody>\n",
       "    <tr>\n",
       "      <th>2612502</th>\n",
       "      <td>18490</td>\n",
       "      <td>2020-08-01 00:15:22</td>\n",
       "      <td>443</td>\n",
       "      <td>1</td>\n",
       "    </tr>\n",
       "    <tr>\n",
       "      <th>2612503</th>\n",
       "      <td>18490</td>\n",
       "      <td>2020-08-01 00:15:22</td>\n",
       "      <td>119</td>\n",
       "      <td>1</td>\n",
       "    </tr>\n",
       "  </tbody>\n",
       "</table>\n",
       "</div>"
      ],
      "text/plain": [
       "         user_id  order_completed_at  cart  is_bought\n",
       "2612502    18490 2020-08-01 00:15:22   443          1\n",
       "2612503    18490 2020-08-01 00:15:22   119          1"
      ]
     },
     "execution_count": 15,
     "metadata": {},
     "output_type": "execute_result"
    }
   ],
   "source": [
    "valid_df.head(2)"
   ]
  },
  {
   "cell_type": "code",
   "execution_count": 16,
   "metadata": {
    "colab": {
     "base_uri": "https://localhost:8080/"
    },
    "executionInfo": {
     "elapsed": 12,
     "status": "ok",
     "timestamp": 1630667855069,
     "user": {
      "displayName": "Antony Vasilev",
      "photoUrl": "https://lh3.googleusercontent.com/a-/AOh14GilGtrNFuVwkeguPc63nl_U9jPzz3QJ2HseOLomwA=s64",
      "userId": "06016057077233784130"
     },
     "user_tz": -180
    },
    "id": "sBA2b6kfcAR8",
    "outputId": "b46c2257-3dcc-44c9-8d50-b0408d68c7ca"
   },
   "outputs": [
    {
     "name": "stdout",
     "output_type": "stream",
     "text": [
      "Тренировка.\n",
      "Количество пользователей: 19270, количество товаров: 834\n",
      "Валидация:\n",
      "Количество пользователей: 13799, количество товаров: 744\n"
     ]
    }
   ],
   "source": [
    "print(f'Тренировка.\\nКоличество пользователей: {train_df.user_id.nunique()}, количество товаров: {train_df.cart.nunique()}')\n",
    "print(f'Валидация:\\nКоличество пользователей: {valid_df.user_id.nunique()}, количество товаров: {valid_df.cart.nunique()}')"
   ]
  },
  {
   "cell_type": "code",
   "execution_count": 17,
   "metadata": {
    "colab": {
     "base_uri": "https://localhost:8080/"
    },
    "executionInfo": {
     "elapsed": 7,
     "status": "ok",
     "timestamp": 1630667855290,
     "user": {
      "displayName": "Antony Vasilev",
      "photoUrl": "https://lh3.googleusercontent.com/a-/AOh14GilGtrNFuVwkeguPc63nl_U9jPzz3QJ2HseOLomwA=s64",
      "userId": "06016057077233784130"
     },
     "user_tz": -180
    },
    "id": "SK21Y9E-cflx",
    "outputId": "d710e0c7-c0c7-4663-c3b5-10ef8c8cfef2"
   },
   "outputs": [
    {
     "name": "stdout",
     "output_type": "stream",
     "text": [
      "Тренировка.\n",
      "Количество пользователей: 19270, количество товаров: 834\n",
      "Валидация:\n",
      "Количество пользователей: 13068, количество товаров: 690\n"
     ]
    }
   ],
   "source": [
    "# Оставляю только общих пользователей и товары\n",
    "common_users = train_df.user_id.unique()\n",
    "common_items = train_df.cart.unique()\n",
    "\n",
    "valid_df = valid_df[valid_df.user_id.isin(common_users)]\n",
    "valid_df = valid_df[valid_df.cart.isin(common_items)]\n",
    "print(f'Тренировка.\\nКоличество пользователей: {train_df.user_id.nunique()}, количество товаров: {train_df.cart.nunique()}')\n",
    "print(f'Валидация:\\nКоличество пользователей: {valid_df.user_id.nunique()}, количество товаров: {valid_df.cart.nunique()}')"
   ]
  },
  {
   "cell_type": "markdown",
   "metadata": {
    "id": "mEOkvVAXaSF9"
   },
   "source": [
    "Подготавливаю датасет"
   ]
  },
  {
   "cell_type": "code",
   "execution_count": 18,
   "metadata": {
    "colab": {
     "base_uri": "https://localhost:8080/",
     "height": 191
    },
    "executionInfo": {
     "elapsed": 3509,
     "status": "ok",
     "timestamp": 1630667858795,
     "user": {
      "displayName": "Antony Vasilev",
      "photoUrl": "https://lh3.googleusercontent.com/a-/AOh14GilGtrNFuVwkeguPc63nl_U9jPzz3QJ2HseOLomwA=s64",
      "userId": "06016057077233784130"
     },
     "user_tz": -180
    },
    "id": "vG9GzDKeXkQS",
    "outputId": "c22d0d98-c02c-47ec-a933-753ee73892c3"
   },
   "outputs": [
    {
     "data": {
      "text/html": [
       "<div>\n",
       "<style scoped>\n",
       "    .dataframe tbody tr th:only-of-type {\n",
       "        vertical-align: middle;\n",
       "    }\n",
       "\n",
       "    .dataframe tbody tr th {\n",
       "        vertical-align: top;\n",
       "    }\n",
       "\n",
       "    .dataframe thead th {\n",
       "        text-align: right;\n",
       "    }\n",
       "</style>\n",
       "<table border=\"1\" class=\"dataframe\">\n",
       "  <thead>\n",
       "    <tr style=\"text-align: right;\">\n",
       "      <th>cart</th>\n",
       "      <th>0</th>\n",
       "      <th>1</th>\n",
       "      <th>2</th>\n",
       "      <th>3</th>\n",
       "      <th>4</th>\n",
       "      <th>5</th>\n",
       "      <th>6</th>\n",
       "      <th>7</th>\n",
       "      <th>8</th>\n",
       "      <th>9</th>\n",
       "      <th>...</th>\n",
       "      <th>858</th>\n",
       "      <th>859</th>\n",
       "      <th>863</th>\n",
       "      <th>865</th>\n",
       "      <th>866</th>\n",
       "      <th>867</th>\n",
       "      <th>868</th>\n",
       "      <th>869</th>\n",
       "      <th>873</th>\n",
       "      <th>880</th>\n",
       "    </tr>\n",
       "    <tr>\n",
       "      <th>user_id</th>\n",
       "      <th></th>\n",
       "      <th></th>\n",
       "      <th></th>\n",
       "      <th></th>\n",
       "      <th></th>\n",
       "      <th></th>\n",
       "      <th></th>\n",
       "      <th></th>\n",
       "      <th></th>\n",
       "      <th></th>\n",
       "      <th></th>\n",
       "      <th></th>\n",
       "      <th></th>\n",
       "      <th></th>\n",
       "      <th></th>\n",
       "      <th></th>\n",
       "      <th></th>\n",
       "      <th></th>\n",
       "      <th></th>\n",
       "      <th></th>\n",
       "      <th></th>\n",
       "    </tr>\n",
       "  </thead>\n",
       "  <tbody>\n",
       "    <tr>\n",
       "      <th>0</th>\n",
       "      <td>0</td>\n",
       "      <td>0</td>\n",
       "      <td>0</td>\n",
       "      <td>0</td>\n",
       "      <td>0</td>\n",
       "      <td>0</td>\n",
       "      <td>0</td>\n",
       "      <td>0</td>\n",
       "      <td>0</td>\n",
       "      <td>0</td>\n",
       "      <td>...</td>\n",
       "      <td>0</td>\n",
       "      <td>0</td>\n",
       "      <td>0</td>\n",
       "      <td>0</td>\n",
       "      <td>0</td>\n",
       "      <td>0</td>\n",
       "      <td>0</td>\n",
       "      <td>0</td>\n",
       "      <td>0</td>\n",
       "      <td>0</td>\n",
       "    </tr>\n",
       "    <tr>\n",
       "      <th>1</th>\n",
       "      <td>0</td>\n",
       "      <td>0</td>\n",
       "      <td>0</td>\n",
       "      <td>0</td>\n",
       "      <td>0</td>\n",
       "      <td>0</td>\n",
       "      <td>0</td>\n",
       "      <td>0</td>\n",
       "      <td>0</td>\n",
       "      <td>0</td>\n",
       "      <td>...</td>\n",
       "      <td>0</td>\n",
       "      <td>0</td>\n",
       "      <td>0</td>\n",
       "      <td>0</td>\n",
       "      <td>0</td>\n",
       "      <td>0</td>\n",
       "      <td>0</td>\n",
       "      <td>0</td>\n",
       "      <td>0</td>\n",
       "      <td>0</td>\n",
       "    </tr>\n",
       "  </tbody>\n",
       "</table>\n",
       "<p>2 rows × 834 columns</p>\n",
       "</div>"
      ],
      "text/plain": [
       "cart     0    1    2    3    4    5    6    7    8    9    ...  858  859  863  \\\n",
       "user_id                                                    ...                  \n",
       "0          0    0    0    0    0    0    0    0    0    0  ...    0    0    0   \n",
       "1          0    0    0    0    0    0    0    0    0    0  ...    0    0    0   \n",
       "\n",
       "cart     865  866  867  868  869  873  880  \n",
       "user_id                                     \n",
       "0          0    0    0    0    0    0    0  \n",
       "1          0    0    0    0    0    0    0  \n",
       "\n",
       "[2 rows x 834 columns]"
      ]
     },
     "execution_count": 18,
     "metadata": {},
     "output_type": "execute_result"
    }
   ],
   "source": [
    "user_item_matrix = pd.pivot_table(train_df, \n",
    "                                  index='user_id', columns='cart', \n",
    "                                  values='is_bought',\n",
    "                                  aggfunc='count', \n",
    "                                  fill_value=0\n",
    "                                 )\n",
    "user_item_matrix.head(2)"
   ]
  },
  {
   "cell_type": "code",
   "execution_count": 19,
   "metadata": {
    "colab": {
     "base_uri": "https://localhost:8080/"
    },
    "executionInfo": {
     "elapsed": 11,
     "status": "ok",
     "timestamp": 1630667858796,
     "user": {
      "displayName": "Antony Vasilev",
      "photoUrl": "https://lh3.googleusercontent.com/a-/AOh14GilGtrNFuVwkeguPc63nl_U9jPzz3QJ2HseOLomwA=s64",
      "userId": "06016057077233784130"
     },
     "user_tz": -180
    },
    "id": "bz1Dc4Q_arVS",
    "outputId": "d17e6a4d-fd5b-4330-a7cf-511b49d7af6e"
   },
   "outputs": [
    {
     "data": {
      "text/plain": [
       "(19270, 834)"
      ]
     },
     "execution_count": 19,
     "metadata": {},
     "output_type": "execute_result"
    }
   ],
   "source": [
    "user_item_matrix.shape"
   ]
  },
  {
   "cell_type": "code",
   "execution_count": 20,
   "metadata": {
    "executionInfo": {
     "elapsed": 224,
     "status": "ok",
     "timestamp": 1630667921895,
     "user": {
      "displayName": "Antony Vasilev",
      "photoUrl": "https://lh3.googleusercontent.com/a-/AOh14GilGtrNFuVwkeguPc63nl_U9jPzz3QJ2HseOLomwA=s64",
      "userId": "06016057077233784130"
     },
     "user_tz": -180
    },
    "id": "irf41TkSed-N"
   },
   "outputs": [],
   "source": [
    "# Подготавливаю словари\n",
    "userids = user_item_matrix.index.values\n",
    "itemids = user_item_matrix.columns.values\n",
    "\n",
    "matrix_userids = np.arange(len(userids))\n",
    "matrix_itemids = np.arange(len(itemids))\n",
    "\n",
    "id_to_itemid = dict(zip(matrix_itemids, itemids))\n",
    "id_to_userid = dict(zip(matrix_userids, userids))\n",
    "\n",
    "itemid_to_id = dict(zip(itemids, matrix_itemids))\n",
    "userid_to_id = dict(zip(userids, matrix_userids))"
   ]
  },
  {
   "cell_type": "code",
   "execution_count": 21,
   "metadata": {
    "executionInfo": {
     "elapsed": 7,
     "status": "ok",
     "timestamp": 1630667858797,
     "user": {
      "displayName": "Antony Vasilev",
      "photoUrl": "https://lh3.googleusercontent.com/a-/AOh14GilGtrNFuVwkeguPc63nl_U9jPzz3QJ2HseOLomwA=s64",
      "userId": "06016057077233784130"
     },
     "user_tz": -180
    },
    "id": "bh41jkkxlMGg"
   },
   "outputs": [],
   "source": [
    "# Удаляю order_completed_at из датафрейма\n",
    "train_df.drop('order_completed_at', axis=1, inplace=True)\n",
    "valid_df.drop('order_completed_at', axis=1, inplace=True)"
   ]
  },
  {
   "cell_type": "code",
   "execution_count": null,
   "metadata": {},
   "outputs": [],
   "source": []
  },
  {
   "cell_type": "code",
   "execution_count": 22,
   "metadata": {},
   "outputs": [
    {
     "name": "stdout",
     "output_type": "stream",
     "text": [
      "Wall time: 12h 3min 22s\n"
     ]
    }
   ],
   "source": [
    "%%time\n",
    "new_train_data = []\n",
    "for user in train_df.user_id.unique():\n",
    "    bought_items = train_df.loc[train_df.user_id == user, 'cart'].to_list()\n",
    "\n",
    "    for i in range(len(bought_items)):\n",
    "        new_item = np.random.choice(train_df.cart.unique(), size=1)[0]\n",
    "        if new_item not in bought_items:\n",
    "            new_train_data.append({'user_id': user, 'cart': new_item})"
   ]
  },
  {
   "cell_type": "code",
   "execution_count": 23,
   "metadata": {},
   "outputs": [
    {
     "data": {
      "text/html": [
       "<div>\n",
       "<style scoped>\n",
       "    .dataframe tbody tr th:only-of-type {\n",
       "        vertical-align: middle;\n",
       "    }\n",
       "\n",
       "    .dataframe tbody tr th {\n",
       "        vertical-align: top;\n",
       "    }\n",
       "\n",
       "    .dataframe thead th {\n",
       "        text-align: right;\n",
       "    }\n",
       "</style>\n",
       "<table border=\"1\" class=\"dataframe\">\n",
       "  <thead>\n",
       "    <tr style=\"text-align: right;\">\n",
       "      <th></th>\n",
       "      <th>user_id</th>\n",
       "      <th>cart</th>\n",
       "      <th>is_bought</th>\n",
       "    </tr>\n",
       "  </thead>\n",
       "  <tbody>\n",
       "    <tr>\n",
       "      <th>0</th>\n",
       "      <td>2</td>\n",
       "      <td>140</td>\n",
       "      <td>0</td>\n",
       "    </tr>\n",
       "    <tr>\n",
       "      <th>1</th>\n",
       "      <td>2</td>\n",
       "      <td>292</td>\n",
       "      <td>0</td>\n",
       "    </tr>\n",
       "    <tr>\n",
       "      <th>2</th>\n",
       "      <td>2</td>\n",
       "      <td>609</td>\n",
       "      <td>0</td>\n",
       "    </tr>\n",
       "    <tr>\n",
       "      <th>3</th>\n",
       "      <td>2</td>\n",
       "      <td>436</td>\n",
       "      <td>0</td>\n",
       "    </tr>\n",
       "    <tr>\n",
       "      <th>4</th>\n",
       "      <td>2</td>\n",
       "      <td>338</td>\n",
       "      <td>0</td>\n",
       "    </tr>\n",
       "  </tbody>\n",
       "</table>\n",
       "</div>"
      ],
      "text/plain": [
       "   user_id  cart  is_bought\n",
       "0        2   140          0\n",
       "1        2   292          0\n",
       "2        2   609          0\n",
       "3        2   436          0\n",
       "4        2   338          0"
      ]
     },
     "execution_count": 23,
     "metadata": {},
     "output_type": "execute_result"
    }
   ],
   "source": [
    "additional_train_df = pd.DataFrame(new_train_data)\n",
    "additional_train_df['is_bought'] = 0\n",
    "additional_train_df.head()"
   ]
  },
  {
   "cell_type": "code",
   "execution_count": 24,
   "metadata": {},
   "outputs": [],
   "source": [
    "additional_train_df.to_csv('additional_train_df.csv', index=False)"
   ]
  },
  {
   "cell_type": "code",
   "execution_count": 25,
   "metadata": {},
   "outputs": [],
   "source": [
    "# additional_train_df = pd.read_csv('additional_train_df.csv')"
   ]
  },
  {
   "cell_type": "code",
   "execution_count": 26,
   "metadata": {},
   "outputs": [
    {
     "data": {
      "text/plain": [
       "(4948537, 3)"
      ]
     },
     "execution_count": 26,
     "metadata": {},
     "output_type": "execute_result"
    }
   ],
   "source": [
    "train_df = train_df.append(additional_train_df, ignore_index=True)\n",
    "train_df.shape"
   ]
  },
  {
   "cell_type": "code",
   "execution_count": null,
   "metadata": {},
   "outputs": [],
   "source": []
  },
  {
   "cell_type": "code",
   "execution_count": 23,
   "metadata": {
    "executionInfo": {
     "elapsed": 7,
     "status": "ok",
     "timestamp": 1630667858798,
     "user": {
      "displayName": "Antony Vasilev",
      "photoUrl": "https://lh3.googleusercontent.com/a-/AOh14GilGtrNFuVwkeguPc63nl_U9jPzz3QJ2HseOLomwA=s64",
      "userId": "06016057077233784130"
     },
     "user_tz": -180
    },
    "id": "FpvsFz2-l14j"
   },
   "outputs": [],
   "source": [
    "# new_valid_data = []\n",
    "# for user in valid_df.user_id.unique():\n",
    "#   bought_items = valid_df.loc[valid_df.user_id == user, 'cart'].to_list()\n",
    "\n",
    "#   for i in range(len(bought_items)):\n",
    "#     new_item = np.random.choice(valid_df.cart.unique(), size=1)[0]\n",
    "#     if new_item not in bought_items:\n",
    "#       new_valid_data.append({'user_id': user, 'cart': new_item})"
   ]
  },
  {
   "cell_type": "code",
   "execution_count": 25,
   "metadata": {
    "colab": {
     "base_uri": "https://localhost:8080/",
     "height": 197
    },
    "collapsed": true,
    "executionInfo": {
     "elapsed": 493,
     "status": "error",
     "timestamp": 1630667859284,
     "user": {
      "displayName": "Antony Vasilev",
      "photoUrl": "https://lh3.googleusercontent.com/a-/AOh14GilGtrNFuVwkeguPc63nl_U9jPzz3QJ2HseOLomwA=s64",
      "userId": "06016057077233784130"
     },
     "user_tz": -180
    },
    "id": "Un1CgQhZl1sN",
    "outputId": "15020cd2-3e11-4a92-9fbe-b6ca971b186d"
   },
   "outputs": [
    {
     "ename": "NameError",
     "evalue": "ignored",
     "output_type": "error",
     "traceback": [
      "\u001b[0;31m---------------------------------------------------------------------------\u001b[0m",
      "\u001b[0;31mNameError\u001b[0m                                 Traceback (most recent call last)",
      "\u001b[0;32m<ipython-input-25-2fe7c17d1be0>\u001b[0m in \u001b[0;36m<module>\u001b[0;34m()\u001b[0m\n\u001b[0;32m----> 1\u001b[0;31m \u001b[0madditional_valid_df\u001b[0m \u001b[0;34m=\u001b[0m \u001b[0mpd\u001b[0m\u001b[0;34m.\u001b[0m\u001b[0mDataFrame\u001b[0m\u001b[0;34m(\u001b[0m\u001b[0mnew_data\u001b[0m\u001b[0;34m)\u001b[0m\u001b[0;34m\u001b[0m\u001b[0;34m\u001b[0m\u001b[0m\n\u001b[0m\u001b[1;32m      2\u001b[0m \u001b[0madditional_valid_df\u001b[0m\u001b[0;34m[\u001b[0m\u001b[0;34m'is_bought'\u001b[0m\u001b[0;34m]\u001b[0m \u001b[0;34m=\u001b[0m \u001b[0;36m0\u001b[0m\u001b[0;34m\u001b[0m\u001b[0;34m\u001b[0m\u001b[0m\n\u001b[1;32m      3\u001b[0m \u001b[0madditional_valid_df\u001b[0m\u001b[0;34m.\u001b[0m\u001b[0mhead\u001b[0m\u001b[0;34m(\u001b[0m\u001b[0;34m)\u001b[0m\u001b[0;34m\u001b[0m\u001b[0;34m\u001b[0m\u001b[0m\n",
      "\u001b[0;31mNameError\u001b[0m: name 'new_data' is not defined"
     ]
    }
   ],
   "source": [
    "# additional_valid_df = pd.DataFrame(new_valid_data)\n",
    "# additional_valid_df['is_bought'] = 0\n",
    "# additional_valid_df.head()"
   ]
  },
  {
   "cell_type": "code",
   "execution_count": null,
   "metadata": {
    "executionInfo": {
     "elapsed": 7,
     "status": "aborted",
     "timestamp": 1630667859279,
     "user": {
      "displayName": "Antony Vasilev",
      "photoUrl": "https://lh3.googleusercontent.com/a-/AOh14GilGtrNFuVwkeguPc63nl_U9jPzz3QJ2HseOLomwA=s64",
      "userId": "06016057077233784130"
     },
     "user_tz": -180
    },
    "id": "637-Y41iMKtS"
   },
   "outputs": [],
   "source": [
    "# additional_valid_df.to_csv('/gdrive/My Drive/Colab Notebooks/sber/additional_valid_df.csv', index=False)"
   ]
  },
  {
   "cell_type": "code",
   "execution_count": 28,
   "metadata": {
    "executionInfo": {
     "elapsed": 224,
     "status": "ok",
     "timestamp": 1630667899342,
     "user": {
      "displayName": "Antony Vasilev",
      "photoUrl": "https://lh3.googleusercontent.com/a-/AOh14GilGtrNFuVwkeguPc63nl_U9jPzz3QJ2HseOLomwA=s64",
      "userId": "06016057077233784130"
     },
     "user_tz": -180
    },
    "id": "osQ4pDMsl1xK"
   },
   "outputs": [],
   "source": [
    "# additional_valid_df = pd.read_csv('/gdrive/My Drive/Colab Notebooks/sber/additional_valid_df.csv')\n",
    "additional_valid_df = pd.read_csv('additional_valid_df.csv')"
   ]
  },
  {
   "cell_type": "code",
   "execution_count": 29,
   "metadata": {
    "colab": {
     "base_uri": "https://localhost:8080/"
    },
    "executionInfo": {
     "elapsed": 237,
     "status": "ok",
     "timestamp": 1630667902089,
     "user": {
      "displayName": "Antony Vasilev",
      "photoUrl": "https://lh3.googleusercontent.com/a-/AOh14GilGtrNFuVwkeguPc63nl_U9jPzz3QJ2HseOLomwA=s64",
      "userId": "06016057077233784130"
     },
     "user_tz": -180
    },
    "id": "SXwnAeT8l1pt",
    "outputId": "78449810-8003-46d4-b0a0-fba3577c7a9f"
   },
   "outputs": [
    {
     "data": {
      "text/plain": [
       "(922500, 3)"
      ]
     },
     "execution_count": 29,
     "metadata": {},
     "output_type": "execute_result"
    }
   ],
   "source": [
    "valid_df = valid_df.append(additional_valid_df, ignore_index=True)\n",
    "valid_df.shape"
   ]
  },
  {
   "cell_type": "markdown",
   "metadata": {
    "id": "8IJ_F_oGl1YH"
   },
   "source": []
  },
  {
   "cell_type": "code",
   "execution_count": 30,
   "metadata": {
    "colab": {
     "base_uri": "https://localhost:8080/",
     "height": 204
    },
    "executionInfo": {
     "elapsed": 211,
     "status": "ok",
     "timestamp": 1630667907393,
     "user": {
      "displayName": "Antony Vasilev",
      "photoUrl": "https://lh3.googleusercontent.com/a-/AOh14GilGtrNFuVwkeguPc63nl_U9jPzz3QJ2HseOLomwA=s64",
      "userId": "06016057077233784130"
     },
     "user_tz": -180
    },
    "id": "0zmCBzc3fYwZ",
    "outputId": "c525fde8-d4ff-4931-e4b6-cdde66be0caa"
   },
   "outputs": [],
   "source": [
    "train_df = train_df.sample(frac=1).reset_index(drop=True)\n",
    "valid_df = valid_df.sample(frac=1).reset_index(drop=True)"
   ]
  },
  {
   "cell_type": "code",
   "execution_count": 31,
   "metadata": {
    "executionInfo": {
     "elapsed": 221,
     "status": "ok",
     "timestamp": 1630667910042,
     "user": {
      "displayName": "Antony Vasilev",
      "photoUrl": "https://lh3.googleusercontent.com/a-/AOh14GilGtrNFuVwkeguPc63nl_U9jPzz3QJ2HseOLomwA=s64",
      "userId": "06016057077233784130"
     },
     "user_tz": -180
    },
    "id": "tR62lyKzBMyh"
   },
   "outputs": [],
   "source": [
    "X_train = train_df.drop('is_bought', axis=1)\n",
    "y_train = train_df['is_bought']\n",
    "\n",
    "X_valid = valid_df.drop('is_bought', axis=1)\n",
    "y_valid = valid_df['is_bought']"
   ]
  },
  {
   "cell_type": "code",
   "execution_count": 32,
   "metadata": {
    "executionInfo": {
     "elapsed": 1690,
     "status": "ok",
     "timestamp": 1630667925949,
     "user": {
      "displayName": "Antony Vasilev",
      "photoUrl": "https://lh3.googleusercontent.com/a-/AOh14GilGtrNFuVwkeguPc63nl_U9jPzz3QJ2HseOLomwA=s64",
      "userId": "06016057077233784130"
     },
     "user_tz": -180
    },
    "id": "TDyxYFE1eJZw"
   },
   "outputs": [],
   "source": [
    "# подготавливаю id для юзеров и товаров в порядке пар user-item\n",
    "users_ids_row_train = X_train['user_id'].apply(lambda x: userid_to_id[x]).values.astype(int)\n",
    "items_ids_row_train = X_train['cart'].apply(lambda x: itemid_to_id[x]).values.astype(int)\n",
    "\n",
    "users_ids_row_valid = X_valid['user_id'].apply(lambda x: userid_to_id[x]).values.astype(int)\n",
    "items_ids_row_valid = X_valid['cart'].apply(lambda x: itemid_to_id[x]).values.astype(int)"
   ]
  },
  {
   "cell_type": "markdown",
   "metadata": {
    "id": "GkLUULM1OuLh"
   },
   "source": [
    "Обучаю модель"
   ]
  },
  {
   "cell_type": "code",
   "execution_count": 33,
   "metadata": {},
   "outputs": [],
   "source": [
    "user_item_matrix = user_item_matrix.astype(float)\n",
    "sparse_user_item = csr_matrix(user_item_matrix).tocsr()"
   ]
  },
  {
   "cell_type": "code",
   "execution_count": 34,
   "metadata": {
    "executionInfo": {
     "elapsed": 206,
     "status": "ok",
     "timestamp": 1630667928999,
     "user": {
      "displayName": "Antony Vasilev",
      "photoUrl": "https://lh3.googleusercontent.com/a-/AOh14GilGtrNFuVwkeguPc63nl_U9jPzz3QJ2HseOLomwA=s64",
      "userId": "06016057077233784130"
     },
     "user_tz": -180
    },
    "id": "ZtNeYtWCbfxX"
   },
   "outputs": [],
   "source": [
    "model = LightFM(no_components=40,\n",
    "                loss='warp',\n",
    "                learning_rate=0.01, \n",
    "                item_alpha=0.4,\n",
    "                user_alpha=0.1,\n",
    "                max_sampled=100)"
   ]
  },
  {
   "cell_type": "code",
   "execution_count": 35,
   "metadata": {
    "colab": {
     "base_uri": "https://localhost:8080/"
    },
    "executionInfo": {
     "elapsed": 59206,
     "status": "ok",
     "timestamp": 1630667989183,
     "user": {
      "displayName": "Antony Vasilev",
      "photoUrl": "https://lh3.googleusercontent.com/a-/AOh14GilGtrNFuVwkeguPc63nl_U9jPzz3QJ2HseOLomwA=s64",
      "userId": "06016057077233784130"
     },
     "user_tz": -180
    },
    "id": "VwKHlYkmeBhE",
    "outputId": "64165ee5-7c4f-43e7-90e5-20798c851d69"
   },
   "outputs": [
    {
     "name": "stderr",
     "output_type": "stream",
     "text": [
      "Epoch: 100%|███████████████████████████████████████████████████████████████████████████| 20/20 [03:02<00:00,  9.10s/it]\n"
     ]
    },
    {
     "data": {
      "text/plain": [
       "<lightfm.lightfm.LightFM at 0x197d22713a0>"
      ]
     },
     "execution_count": 35,
     "metadata": {},
     "output_type": "execute_result"
    }
   ],
   "source": [
    "model.fit((sparse_user_item > 0) * 1,\n",
    "          sample_weight=coo_matrix(user_item_matrix),\n",
    "          epochs=20, \n",
    "          num_threads=4,\n",
    "          verbose=True)"
   ]
  },
  {
   "cell_type": "code",
   "execution_count": 36,
   "metadata": {
    "executionInfo": {
     "elapsed": 11,
     "status": "ok",
     "timestamp": 1630667989184,
     "user": {
      "displayName": "Antony Vasilev",
      "photoUrl": "https://lh3.googleusercontent.com/a-/AOh14GilGtrNFuVwkeguPc63nl_U9jPzz3QJ2HseOLomwA=s64",
      "userId": "06016057077233784130"
     },
     "user_tz": -180
    },
    "id": "lgD556TZe1D0"
   },
   "outputs": [],
   "source": [
    "# модель возвращает меру/скор похожести между соответствующим пользователем и товаром\n",
    "predictions_train = model.predict(user_ids=users_ids_row_train,\n",
    "                            item_ids=items_ids_row_train,\n",
    "                            num_threads=4)\n",
    "\n",
    "predictions_valid = model.predict(user_ids=users_ids_row_valid,\n",
    "                            item_ids=items_ids_row_valid,\n",
    "                            num_threads=4)"
   ]
  },
  {
   "cell_type": "code",
   "execution_count": 59,
   "metadata": {
    "executionInfo": {
     "elapsed": 226,
     "status": "ok",
     "timestamp": 1630668671404,
     "user": {
      "displayName": "Antony Vasilev",
      "photoUrl": "https://lh3.googleusercontent.com/a-/AOh14GilGtrNFuVwkeguPc63nl_U9jPzz3QJ2HseOLomwA=s64",
      "userId": "06016057077233784130"
     },
     "user_tz": -180
    },
    "id": "GDAQl--Ba6rA"
   },
   "outputs": [],
   "source": [
    "# from sklearn.preprocessing import normalize, StandardScaler"
   ]
  },
  {
   "cell_type": "code",
   "execution_count": 56,
   "metadata": {
    "executionInfo": {
     "elapsed": 217,
     "status": "ok",
     "timestamp": 1630668641475,
     "user": {
      "displayName": "Antony Vasilev",
      "photoUrl": "https://lh3.googleusercontent.com/a-/AOh14GilGtrNFuVwkeguPc63nl_U9jPzz3QJ2HseOLomwA=s64",
      "userId": "06016057077233784130"
     },
     "user_tz": -180
    },
    "id": "Xhlv74ENa6ho"
   },
   "outputs": [],
   "source": [
    "# norm_preds = normalize(predictions.reshape(-1, 1))"
   ]
  },
  {
   "cell_type": "code",
   "execution_count": 60,
   "metadata": {
    "executionInfo": {
     "elapsed": 220,
     "status": "ok",
     "timestamp": 1630668699099,
     "user": {
      "displayName": "Antony Vasilev",
      "photoUrl": "https://lh3.googleusercontent.com/a-/AOh14GilGtrNFuVwkeguPc63nl_U9jPzz3QJ2HseOLomwA=s64",
      "userId": "06016057077233784130"
     },
     "user_tz": -180
    },
    "id": "hHzJb5B5a6fB"
   },
   "outputs": [],
   "source": [
    "# std = StandardScaler()"
   ]
  },
  {
   "cell_type": "code",
   "execution_count": 63,
   "metadata": {
    "executionInfo": {
     "elapsed": 224,
     "status": "ok",
     "timestamp": 1630668753098,
     "user": {
      "displayName": "Antony Vasilev",
      "photoUrl": "https://lh3.googleusercontent.com/a-/AOh14GilGtrNFuVwkeguPc63nl_U9jPzz3QJ2HseOLomwA=s64",
      "userId": "06016057077233784130"
     },
     "user_tz": -180
    },
    "id": "QV2F00TVa6bu"
   },
   "outputs": [],
   "source": [
    "# std_preds = std.fit_transform(predictions.reshape(-1, 1))"
   ]
  },
  {
   "cell_type": "code",
   "execution_count": 65,
   "metadata": {
    "colab": {
     "base_uri": "https://localhost:8080/"
    },
    "executionInfo": {
     "elapsed": 853,
     "status": "ok",
     "timestamp": 1630668779525,
     "user": {
      "displayName": "Antony Vasilev",
      "photoUrl": "https://lh3.googleusercontent.com/a-/AOh14GilGtrNFuVwkeguPc63nl_U9jPzz3QJ2HseOLomwA=s64",
      "userId": "06016057077233784130"
     },
     "user_tz": -180
    },
    "id": "lD3jaiifbpYV",
    "outputId": "df90e213-3c19-410f-8f55-1bb66e03c65a"
   },
   "outputs": [
    {
     "data": {
      "text/plain": [
       "array([-555.2281], dtype=float32)"
      ]
     },
     "execution_count": 65,
     "metadata": {},
     "output_type": "execute_result"
    }
   ],
   "source": [
    "# min(std_preds)"
   ]
  },
  {
   "cell_type": "code",
   "execution_count": 37,
   "metadata": {
    "executionInfo": {
     "elapsed": 214,
     "status": "ok",
     "timestamp": 1630668788848,
     "user": {
      "displayName": "Antony Vasilev",
      "photoUrl": "https://lh3.googleusercontent.com/a-/AOh14GilGtrNFuVwkeguPc63nl_U9jPzz3QJ2HseOLomwA=s64",
      "userId": "06016057077233784130"
     },
     "user_tz": -180
    },
    "id": "EYzrJXgJfR3I"
   },
   "outputs": [],
   "source": [
    "threshold = 0"
   ]
  },
  {
   "cell_type": "code",
   "execution_count": 38,
   "metadata": {
    "executionInfo": {
     "elapsed": 222,
     "status": "ok",
     "timestamp": 1630668811416,
     "user": {
      "displayName": "Antony Vasilev",
      "photoUrl": "https://lh3.googleusercontent.com/a-/AOh14GilGtrNFuVwkeguPc63nl_U9jPzz3QJ2HseOLomwA=s64",
      "userId": "06016057077233784130"
     },
     "user_tz": -180
    },
    "id": "UvxykDS-BryX"
   },
   "outputs": [],
   "source": [
    "y_train_preds = np.where(predictions_train > threshold, 1, 0)\n",
    "y_valid_preds = np.where(predictions_valid > threshold, 1, 0)"
   ]
  },
  {
   "cell_type": "code",
   "execution_count": 39,
   "metadata": {
    "colab": {
     "base_uri": "https://localhost:8080/"
    },
    "executionInfo": {
     "elapsed": 597,
     "status": "ok",
     "timestamp": 1630668819640,
     "user": {
      "displayName": "Antony Vasilev",
      "photoUrl": "https://lh3.googleusercontent.com/a-/AOh14GilGtrNFuVwkeguPc63nl_U9jPzz3QJ2HseOLomwA=s64",
      "userId": "06016057077233784130"
     },
     "user_tz": -180
    },
    "id": "J0ILxlKwDAoY",
    "outputId": "daa61e8d-b11f-4311-a27d-61d8f34ef02e"
   },
   "outputs": [
    {
     "data": {
      "text/plain": [
       "0.7677272257858653"
      ]
     },
     "execution_count": 39,
     "metadata": {},
     "output_type": "execute_result"
    }
   ],
   "source": [
    "f1_score(y_train, y_train_preds)"
   ]
  },
  {
   "cell_type": "code",
   "execution_count": 40,
   "metadata": {
    "id": "rzFpLgUIbpV4"
   },
   "outputs": [
    {
     "data": {
      "text/plain": [
       "0.7697306749547065"
      ]
     },
     "execution_count": 40,
     "metadata": {},
     "output_type": "execute_result"
    }
   ],
   "source": [
    "f1_score(y_valid, y_valid_preds)"
   ]
  },
  {
   "cell_type": "markdown",
   "metadata": {
    "id": "QLhqESEdPc58"
   },
   "source": [
    "GRID SEARCH"
   ]
  },
  {
   "cell_type": "code",
   "execution_count": 64,
   "metadata": {},
   "outputs": [],
   "source": [
    "from itertools import product"
   ]
  },
  {
   "cell_type": "code",
   "execution_count": 95,
   "metadata": {
    "executionInfo": {
     "elapsed": 235,
     "status": "ok",
     "timestamp": 1630665865558,
     "user": {
      "displayName": "Antony Vasilev",
      "photoUrl": "https://lh3.googleusercontent.com/a-/AOh14GilGtrNFuVwkeguPc63nl_U9jPzz3QJ2HseOLomwA=s64",
      "userId": "06016057077233784130"
     },
     "user_tz": -180
    },
    "id": "5blRWy9oP7cx"
   },
   "outputs": [],
   "source": [
    "no_components_list = [20, 40, 60]\n",
    "loss_list = ['warp', 'bpr']\n",
    "learning_rate_list = [0.01]\n",
    "item_alpha_list = [0.2, 0.4, 0.6]\n",
    "user_alpha_list = [0.1, 0.3, 0.5]\n",
    "max_sampled_list = [50, 100, 150]"
   ]
  },
  {
   "cell_type": "code",
   "execution_count": 96,
   "metadata": {
    "id": "wm7fZ1JKPikB"
   },
   "outputs": [],
   "source": [
    "def valid_model(no_components, loss, learning_rate, item_alpha, user_alpha, max_sampled, thr):\n",
    "    \n",
    "    model_ = LightFM(no_components=no_components, loss=loss, learning_rate=learning_rate, \n",
    "                     item_alpha=item_alpha, user_alpha=user_alpha, max_sampled=max_sampled)\n",
    "    model_.fit((sparse_user_item > 0) * 1,\n",
    "              sample_weight=coo_matrix(user_item_matrix),\n",
    "              epochs=20, \n",
    "              num_threads=4)\n",
    "    predictions_train_ = model_.predict(user_ids=users_ids_row_train,\n",
    "                            item_ids=items_ids_row_train,\n",
    "                            num_threads=4)\n",
    "\n",
    "    predictions_valid_ = model_.predict(user_ids=users_ids_row_valid,\n",
    "                            item_ids=items_ids_row_valid,\n",
    "                            num_threads=4)\n",
    "    y_train_preds_ = np.where(predictions_train_ > thr, 1, 0)\n",
    "    y_valid_preds_ = np.where(predictions_valid_ > thr, 1, 0)\n",
    "    return f1_score(y_train, y_train_preds_), f1_score(y_valid, y_valid_preds_)"
   ]
  },
  {
   "cell_type": "code",
   "execution_count": 99,
   "metadata": {
    "id": "uIdHUqmIPihX"
   },
   "outputs": [
    {
     "name": "stdout",
     "output_type": "stream",
     "text": [
      "Wall time: 6h 34min 14s\n"
     ]
    }
   ],
   "source": [
    "# %%time\n",
    "# gs_result = []\n",
    "# for no_components, loss, learning_rate, item_alpha, user_alpha, max_sampled in product(\n",
    "#         no_components_list, loss_list, learning_rate_list, item_alpha_list, \n",
    "#         user_alpha_list, max_sampled_list):\n",
    "#     f1_train, f1_valid = valid_model(no_components, loss, learning_rate, item_alpha, \n",
    "#                                      user_alpha, max_sampled, 0)\n",
    "#     gs_result.append({'f1_train': f1_train, 'f1_valid': f1_valid, 'no_components': no_components,\n",
    "#                      'loss': loss, 'learning_rate': learning_rate, 'item_alpha': item_alpha,\n",
    "#                      'user_alpha': user_alpha, 'max_sampled': max_sampled})"
   ]
  },
  {
   "cell_type": "code",
   "execution_count": 100,
   "metadata": {
    "id": "C8OYSi3lPie_"
   },
   "outputs": [],
   "source": [
    "import json\n",
    "with open('gs_result.json', 'w') as f:\n",
    "    json.dump(gs_result, f)"
   ]
  },
  {
   "cell_type": "code",
   "execution_count": 107,
   "metadata": {
    "id": "AnNSS5g3Pich"
   },
   "outputs": [],
   "source": [
    "gs_df = pd.DataFrame(gs_result)"
   ]
  },
  {
   "cell_type": "code",
   "execution_count": 108,
   "metadata": {},
   "outputs": [
    {
     "data": {
      "text/html": [
       "<div>\n",
       "<style scoped>\n",
       "    .dataframe tbody tr th:only-of-type {\n",
       "        vertical-align: middle;\n",
       "    }\n",
       "\n",
       "    .dataframe tbody tr th {\n",
       "        vertical-align: top;\n",
       "    }\n",
       "\n",
       "    .dataframe thead th {\n",
       "        text-align: right;\n",
       "    }\n",
       "</style>\n",
       "<table border=\"1\" class=\"dataframe\">\n",
       "  <thead>\n",
       "    <tr style=\"text-align: right;\">\n",
       "      <th></th>\n",
       "      <th>f1_train</th>\n",
       "      <th>f1_valid</th>\n",
       "      <th>no_components</th>\n",
       "      <th>loss</th>\n",
       "      <th>learning_rate</th>\n",
       "      <th>item_alpha</th>\n",
       "      <th>user_alpha</th>\n",
       "      <th>max_sampled</th>\n",
       "    </tr>\n",
       "  </thead>\n",
       "  <tbody>\n",
       "    <tr>\n",
       "      <th>0</th>\n",
       "      <td>0.878673</td>\n",
       "      <td>0.869371</td>\n",
       "      <td>20</td>\n",
       "      <td>warp</td>\n",
       "      <td>0.01</td>\n",
       "      <td>0.2</td>\n",
       "      <td>0.1</td>\n",
       "      <td>50</td>\n",
       "    </tr>\n",
       "    <tr>\n",
       "      <th>1</th>\n",
       "      <td>0.885682</td>\n",
       "      <td>0.873681</td>\n",
       "      <td>20</td>\n",
       "      <td>warp</td>\n",
       "      <td>0.01</td>\n",
       "      <td>0.2</td>\n",
       "      <td>0.1</td>\n",
       "      <td>100</td>\n",
       "    </tr>\n",
       "    <tr>\n",
       "      <th>2</th>\n",
       "      <td>0.888318</td>\n",
       "      <td>0.875106</td>\n",
       "      <td>20</td>\n",
       "      <td>warp</td>\n",
       "      <td>0.01</td>\n",
       "      <td>0.2</td>\n",
       "      <td>0.1</td>\n",
       "      <td>150</td>\n",
       "    </tr>\n",
       "    <tr>\n",
       "      <th>3</th>\n",
       "      <td>0.918947</td>\n",
       "      <td>0.886332</td>\n",
       "      <td>20</td>\n",
       "      <td>warp</td>\n",
       "      <td>0.01</td>\n",
       "      <td>0.2</td>\n",
       "      <td>0.3</td>\n",
       "      <td>50</td>\n",
       "    </tr>\n",
       "    <tr>\n",
       "      <th>4</th>\n",
       "      <td>0.918940</td>\n",
       "      <td>0.884842</td>\n",
       "      <td>20</td>\n",
       "      <td>warp</td>\n",
       "      <td>0.01</td>\n",
       "      <td>0.2</td>\n",
       "      <td>0.3</td>\n",
       "      <td>100</td>\n",
       "    </tr>\n",
       "  </tbody>\n",
       "</table>\n",
       "</div>"
      ],
      "text/plain": [
       "   f1_train  f1_valid  no_components  loss  learning_rate  item_alpha  \\\n",
       "0  0.878673  0.869371             20  warp           0.01         0.2   \n",
       "1  0.885682  0.873681             20  warp           0.01         0.2   \n",
       "2  0.888318  0.875106             20  warp           0.01         0.2   \n",
       "3  0.918947  0.886332             20  warp           0.01         0.2   \n",
       "4  0.918940  0.884842             20  warp           0.01         0.2   \n",
       "\n",
       "   user_alpha  max_sampled  \n",
       "0         0.1           50  \n",
       "1         0.1          100  \n",
       "2         0.1          150  \n",
       "3         0.3           50  \n",
       "4         0.3          100  "
      ]
     },
     "execution_count": 108,
     "metadata": {},
     "output_type": "execute_result"
    }
   ],
   "source": [
    "gs_df.head()"
   ]
  },
  {
   "cell_type": "code",
   "execution_count": 109,
   "metadata": {},
   "outputs": [
    {
     "data": {
      "text/plain": [
       "f1_train         0.918947\n",
       "f1_valid         0.886332\n",
       "no_components          20\n",
       "loss                 warp\n",
       "learning_rate        0.01\n",
       "item_alpha            0.2\n",
       "user_alpha            0.3\n",
       "max_sampled            50\n",
       "Name: 3, dtype: object"
      ]
     },
     "execution_count": 109,
     "metadata": {},
     "output_type": "execute_result"
    }
   ],
   "source": [
    "gs_df.iloc[np.argmax(gs_df.f1_train)]"
   ]
  },
  {
   "cell_type": "code",
   "execution_count": 110,
   "metadata": {},
   "outputs": [
    {
     "data": {
      "text/plain": [
       "f1_train         0.917503\n",
       "f1_valid         0.887314\n",
       "no_components          40\n",
       "loss                 warp\n",
       "learning_rate        0.01\n",
       "item_alpha            0.2\n",
       "user_alpha            0.3\n",
       "max_sampled           150\n",
       "Name: 59, dtype: object"
      ]
     },
     "execution_count": 110,
     "metadata": {},
     "output_type": "execute_result"
    }
   ],
   "source": [
    "gs_df.iloc[np.argmax(gs_df.f1_valid)]"
   ]
  },
  {
   "cell_type": "code",
   "execution_count": 111,
   "metadata": {},
   "outputs": [
    {
     "name": "stderr",
     "output_type": "stream",
     "text": [
      "Epoch: 100%|███████████████████████████████████████████████████████████████████████████| 20/20 [05:29<00:00, 16.48s/it]\n"
     ]
    },
    {
     "data": {
      "text/plain": [
       "<lightfm.lightfm.LightFM at 0x19794573220>"
      ]
     },
     "execution_count": 111,
     "metadata": {},
     "output_type": "execute_result"
    }
   ],
   "source": [
    "new_model = LightFM(no_components=40,\n",
    "                loss='warp',\n",
    "                learning_rate=0.01, \n",
    "                item_alpha=0.2,\n",
    "                user_alpha=0.3,\n",
    "                max_sampled=150)\n",
    "\n",
    "new_model.fit((sparse_user_item > 0) * 1,\n",
    "          sample_weight=coo_matrix(user_item_matrix),\n",
    "          epochs=20, \n",
    "          num_threads=4,\n",
    "          verbose=True)"
   ]
  },
  {
   "cell_type": "code",
   "execution_count": 112,
   "metadata": {},
   "outputs": [],
   "source": [
    "new_predictions_train = new_model.predict(user_ids=users_ids_row_train,\n",
    "                            item_ids=items_ids_row_train,\n",
    "                            num_threads=4)\n",
    "\n",
    "new_predictions_valid = new_model.predict(user_ids=users_ids_row_valid,\n",
    "                            item_ids=items_ids_row_valid,\n",
    "                            num_threads=4)"
   ]
  },
  {
   "cell_type": "code",
   "execution_count": 113,
   "metadata": {},
   "outputs": [],
   "source": [
    "new_y_train_preds = np.where(new_predictions_train > threshold, 1, 0)\n",
    "new_y_valid_preds = np.where(new_predictions_valid > threshold, 1, 0)"
   ]
  },
  {
   "cell_type": "code",
   "execution_count": 114,
   "metadata": {},
   "outputs": [
    {
     "data": {
      "text/plain": [
       "0.9186041391168712"
      ]
     },
     "execution_count": 114,
     "metadata": {},
     "output_type": "execute_result"
    }
   ],
   "source": [
    "f1_score(y_train, new_y_train_preds)"
   ]
  },
  {
   "cell_type": "code",
   "execution_count": 115,
   "metadata": {
    "id": "VNY-LV09PiaF"
   },
   "outputs": [
    {
     "data": {
      "text/plain": [
       "0.8858706910479256"
      ]
     },
     "execution_count": 115,
     "metadata": {},
     "output_type": "execute_result"
    }
   ],
   "source": [
    "f1_score(y_valid, new_y_valid_preds)"
   ]
  },
  {
   "cell_type": "markdown",
   "metadata": {
    "id": "KiOz3MK9DRqj"
   },
   "source": [
    "Подберу оптимальное значение threshhold"
   ]
  },
  {
   "cell_type": "code",
   "execution_count": null,
   "metadata": {
    "id": "7_Wyyn01a4JR"
   },
   "outputs": [],
   "source": []
  },
  {
   "cell_type": "code",
   "execution_count": 78,
   "metadata": {
    "executionInfo": {
     "elapsed": 7355,
     "status": "ok",
     "timestamp": 1630669103233,
     "user": {
      "displayName": "Antony Vasilev",
      "photoUrl": "https://lh3.googleusercontent.com/a-/AOh14GilGtrNFuVwkeguPc63nl_U9jPzz3QJ2HseOLomwA=s64",
      "userId": "06016057077233784130"
     },
     "user_tz": -180
    },
    "id": "zK5qVko5FoTz"
   },
   "outputs": [],
   "source": [
    "thresholds_list = []\n",
    "for thr in np.arange(-0.5, 0.51, 0.05):\n",
    "    preds_ = np.where(std_preds > thr, 1, 0)\n",
    "    # std_preds_ = std.transform(preds_.reshape(-1, 1))\n",
    "    f_score_ = f1_score(y_val, preds_)\n",
    "    thresholds_list.append({'threshold': thr, 'F1_score': f_score_})"
   ]
  },
  {
   "cell_type": "code",
   "execution_count": 79,
   "metadata": {
    "colab": {
     "base_uri": "https://localhost:8080/",
     "height": 700
    },
    "executionInfo": {
     "elapsed": 13,
     "status": "ok",
     "timestamp": 1630669103234,
     "user": {
      "displayName": "Antony Vasilev",
      "photoUrl": "https://lh3.googleusercontent.com/a-/AOh14GilGtrNFuVwkeguPc63nl_U9jPzz3QJ2HseOLomwA=s64",
      "userId": "06016057077233784130"
     },
     "user_tz": -180
    },
    "id": "zzw6--IHNc5f",
    "outputId": "05ef6fe6-8899-431b-cacc-8c647221c689"
   },
   "outputs": [
    {
     "data": {
      "text/html": [
       "<div>\n",
       "<style scoped>\n",
       "    .dataframe tbody tr th:only-of-type {\n",
       "        vertical-align: middle;\n",
       "    }\n",
       "\n",
       "    .dataframe tbody tr th {\n",
       "        vertical-align: top;\n",
       "    }\n",
       "\n",
       "    .dataframe thead th {\n",
       "        text-align: right;\n",
       "    }\n",
       "</style>\n",
       "<table border=\"1\" class=\"dataframe\">\n",
       "  <thead>\n",
       "    <tr style=\"text-align: right;\">\n",
       "      <th></th>\n",
       "      <th>threshold</th>\n",
       "      <th>F1_score</th>\n",
       "    </tr>\n",
       "  </thead>\n",
       "  <tbody>\n",
       "    <tr>\n",
       "      <th>0</th>\n",
       "      <td>-5.000000e-01</td>\n",
       "      <td>0.679721</td>\n",
       "    </tr>\n",
       "    <tr>\n",
       "      <th>1</th>\n",
       "      <td>-4.500000e-01</td>\n",
       "      <td>0.679721</td>\n",
       "    </tr>\n",
       "    <tr>\n",
       "      <th>2</th>\n",
       "      <td>-4.000000e-01</td>\n",
       "      <td>0.679722</td>\n",
       "    </tr>\n",
       "    <tr>\n",
       "      <th>3</th>\n",
       "      <td>-3.500000e-01</td>\n",
       "      <td>0.679724</td>\n",
       "    </tr>\n",
       "    <tr>\n",
       "      <th>4</th>\n",
       "      <td>-3.000000e-01</td>\n",
       "      <td>0.679728</td>\n",
       "    </tr>\n",
       "    <tr>\n",
       "      <th>5</th>\n",
       "      <td>-2.500000e-01</td>\n",
       "      <td>0.679732</td>\n",
       "    </tr>\n",
       "    <tr>\n",
       "      <th>6</th>\n",
       "      <td>-2.000000e-01</td>\n",
       "      <td>0.679733</td>\n",
       "    </tr>\n",
       "    <tr>\n",
       "      <th>7</th>\n",
       "      <td>-1.500000e-01</td>\n",
       "      <td>0.679732</td>\n",
       "    </tr>\n",
       "    <tr>\n",
       "      <th>8</th>\n",
       "      <td>-1.000000e-01</td>\n",
       "      <td>0.679744</td>\n",
       "    </tr>\n",
       "    <tr>\n",
       "      <th>9</th>\n",
       "      <td>-5.000000e-02</td>\n",
       "      <td>0.679737</td>\n",
       "    </tr>\n",
       "    <tr>\n",
       "      <th>10</th>\n",
       "      <td>-1.110223e-16</td>\n",
       "      <td>0.679853</td>\n",
       "    </tr>\n",
       "    <tr>\n",
       "      <th>11</th>\n",
       "      <td>5.000000e-02</td>\n",
       "      <td>0.001662</td>\n",
       "    </tr>\n",
       "    <tr>\n",
       "      <th>12</th>\n",
       "      <td>1.000000e-01</td>\n",
       "      <td>0.001136</td>\n",
       "    </tr>\n",
       "    <tr>\n",
       "      <th>13</th>\n",
       "      <td>1.500000e-01</td>\n",
       "      <td>0.000896</td>\n",
       "    </tr>\n",
       "    <tr>\n",
       "      <th>14</th>\n",
       "      <td>2.000000e-01</td>\n",
       "      <td>0.000720</td>\n",
       "    </tr>\n",
       "    <tr>\n",
       "      <th>15</th>\n",
       "      <td>2.500000e-01</td>\n",
       "      <td>0.000631</td>\n",
       "    </tr>\n",
       "    <tr>\n",
       "      <th>16</th>\n",
       "      <td>3.000000e-01</td>\n",
       "      <td>0.000497</td>\n",
       "    </tr>\n",
       "    <tr>\n",
       "      <th>17</th>\n",
       "      <td>3.500000e-01</td>\n",
       "      <td>0.000404</td>\n",
       "    </tr>\n",
       "    <tr>\n",
       "      <th>18</th>\n",
       "      <td>4.000000e-01</td>\n",
       "      <td>0.000358</td>\n",
       "    </tr>\n",
       "    <tr>\n",
       "      <th>19</th>\n",
       "      <td>4.500000e-01</td>\n",
       "      <td>0.000299</td>\n",
       "    </tr>\n",
       "    <tr>\n",
       "      <th>20</th>\n",
       "      <td>5.000000e-01</td>\n",
       "      <td>0.000244</td>\n",
       "    </tr>\n",
       "  </tbody>\n",
       "</table>\n",
       "</div>"
      ],
      "text/plain": [
       "       threshold  F1_score\n",
       "0  -5.000000e-01  0.679721\n",
       "1  -4.500000e-01  0.679721\n",
       "2  -4.000000e-01  0.679722\n",
       "3  -3.500000e-01  0.679724\n",
       "4  -3.000000e-01  0.679728\n",
       "5  -2.500000e-01  0.679732\n",
       "6  -2.000000e-01  0.679733\n",
       "7  -1.500000e-01  0.679732\n",
       "8  -1.000000e-01  0.679744\n",
       "9  -5.000000e-02  0.679737\n",
       "10 -1.110223e-16  0.679853\n",
       "11  5.000000e-02  0.001662\n",
       "12  1.000000e-01  0.001136\n",
       "13  1.500000e-01  0.000896\n",
       "14  2.000000e-01  0.000720\n",
       "15  2.500000e-01  0.000631\n",
       "16  3.000000e-01  0.000497\n",
       "17  3.500000e-01  0.000404\n",
       "18  4.000000e-01  0.000358\n",
       "19  4.500000e-01  0.000299\n",
       "20  5.000000e-01  0.000244"
      ]
     },
     "execution_count": 79,
     "metadata": {},
     "output_type": "execute_result"
    }
   ],
   "source": [
    "thresholds_df = pd.DataFrame(thresholds_list)\n",
    "thresholds_df"
   ]
  },
  {
   "cell_type": "code",
   "execution_count": 80,
   "metadata": {
    "colab": {
     "base_uri": "https://localhost:8080/"
    },
    "executionInfo": {
     "elapsed": 237,
     "status": "ok",
     "timestamp": 1630669128720,
     "user": {
      "displayName": "Antony Vasilev",
      "photoUrl": "https://lh3.googleusercontent.com/a-/AOh14GilGtrNFuVwkeguPc63nl_U9jPzz3QJ2HseOLomwA=s64",
      "userId": "06016057077233784130"
     },
     "user_tz": -180
    },
    "id": "9a-gxXmpNfro",
    "outputId": "9a8adc4d-d5d1-48d6-ca8b-f56f1a5ea66e"
   },
   "outputs": [
    {
     "data": {
      "text/plain": [
       "threshold   -1.110223e-16\n",
       "F1_score     6.798534e-01\n",
       "Name: 10, dtype: float64"
      ]
     },
     "execution_count": 80,
     "metadata": {},
     "output_type": "execute_result"
    }
   ],
   "source": [
    "thresholds_df.iloc[np.argmax(thresholds_df.F1_score)]"
   ]
  },
  {
   "cell_type": "code",
   "execution_count": 76,
   "metadata": {
    "executionInfo": {
     "elapsed": 227,
     "status": "ok",
     "timestamp": 1630669021467,
     "user": {
      "displayName": "Antony Vasilev",
      "photoUrl": "https://lh3.googleusercontent.com/a-/AOh14GilGtrNFuVwkeguPc63nl_U9jPzz3QJ2HseOLomwA=s64",
      "userId": "06016057077233784130"
     },
     "user_tz": -180
    },
    "id": "IxdUkfWdN2UC"
   },
   "outputs": [],
   "source": [
    "threshold = 0\n",
    "y_preds = np.where(std_preds > threshold, 1, 0)"
   ]
  },
  {
   "cell_type": "code",
   "execution_count": 77,
   "metadata": {
    "colab": {
     "base_uri": "https://localhost:8080/"
    },
    "executionInfo": {
     "elapsed": 641,
     "status": "ok",
     "timestamp": 1630669025605,
     "user": {
      "displayName": "Antony Vasilev",
      "photoUrl": "https://lh3.googleusercontent.com/a-/AOh14GilGtrNFuVwkeguPc63nl_U9jPzz3QJ2HseOLomwA=s64",
      "userId": "06016057077233784130"
     },
     "user_tz": -180
    },
    "id": "9D1Td9I7OLPF",
    "outputId": "308519cf-0591-4838-a4e7-1a0654929438"
   },
   "outputs": [
    {
     "data": {
      "text/plain": [
       "0.6798534368037586"
      ]
     },
     "execution_count": 77,
     "metadata": {},
     "output_type": "execute_result"
    }
   ],
   "source": [
    "f1_score(y_val, y_preds)"
   ]
  },
  {
   "cell_type": "markdown",
   "metadata": {
    "id": "ctuZb5gAShGM"
   },
   "source": [
    "## Обучаю модель на всем датасете"
   ]
  },
  {
   "cell_type": "code",
   "execution_count": 104,
   "metadata": {
    "executionInfo": {
     "elapsed": 4147,
     "status": "ok",
     "timestamp": 1630669954003,
     "user": {
      "displayName": "Antony Vasilev",
      "photoUrl": "https://lh3.googleusercontent.com/a-/AOh14GilGtrNFuVwkeguPc63nl_U9jPzz3QJ2HseOLomwA=s64",
      "userId": "06016057077233784130"
     },
     "user_tz": -180
    },
    "id": "f2cV3CO-SmZj"
   },
   "outputs": [],
   "source": [
    "test_user_item_matrix = pd.pivot_table(df, \n",
    "                                  index='user_id', columns='cart', \n",
    "                                  values='is_bought',\n",
    "                                  aggfunc='count', \n",
    "                                  fill_value=0\n",
    "                                 )\n",
    "\n",
    "test_user_item_matrix = test_user_item_matrix.astype(float)\n",
    "test_sparse_user_item = csr_matrix(test_user_item_matrix).tocsr()"
   ]
  },
  {
   "cell_type": "code",
   "execution_count": 109,
   "metadata": {
    "executionInfo": {
     "elapsed": 236,
     "status": "ok",
     "timestamp": 1630670017999,
     "user": {
      "displayName": "Antony Vasilev",
      "photoUrl": "https://lh3.googleusercontent.com/a-/AOh14GilGtrNFuVwkeguPc63nl_U9jPzz3QJ2HseOLomwA=s64",
      "userId": "06016057077233784130"
     },
     "user_tz": -180
    },
    "id": "hBsYO9FcVbO6"
   },
   "outputs": [],
   "source": [
    "# Подготавливаю словари\n",
    "test_userids = test_user_item_matrix.index.values\n",
    "test_itemids = test_user_item_matrix.columns.values\n",
    "\n",
    "test_matrix_userids = np.arange(len(test_userids))\n",
    "test_matrix_itemids = np.arange(len(test_itemids))\n",
    "\n",
    "test_id_to_itemid = dict(zip(test_matrix_itemids, itemids))\n",
    "test_id_to_userid = dict(zip(test_matrix_userids, userids))\n",
    "\n",
    "test_itemid_to_id = dict(zip(test_itemids, test_matrix_itemids))\n",
    "test_userid_to_id = dict(zip(test_userids, test_matrix_userids))"
   ]
  },
  {
   "cell_type": "code",
   "execution_count": 105,
   "metadata": {
    "colab": {
     "base_uri": "https://localhost:8080/"
    },
    "executionInfo": {
     "elapsed": 55497,
     "status": "ok",
     "timestamp": 1630670011361,
     "user": {
      "displayName": "Antony Vasilev",
      "photoUrl": "https://lh3.googleusercontent.com/a-/AOh14GilGtrNFuVwkeguPc63nl_U9jPzz3QJ2HseOLomwA=s64",
      "userId": "06016057077233784130"
     },
     "user_tz": -180
    },
    "id": "bXDBes3aSmW0",
    "outputId": "2db3c168-4731-4d1c-f4a9-fdf7173a8c71"
   },
   "outputs": [
    {
     "name": "stderr",
     "output_type": "stream",
     "text": [
      "Epoch: 100%|██████████| 20/20 [00:54<00:00,  2.75s/it]\n"
     ]
    },
    {
     "data": {
      "text/plain": [
       "<lightfm.lightfm.LightFM at 0x7f343ac66d50>"
      ]
     },
     "execution_count": 105,
     "metadata": {},
     "output_type": "execute_result"
    }
   ],
   "source": [
    "final_model = LightFM(no_components=40,\n",
    "                      loss='warp',\n",
    "                      learning_rate=0.01, \n",
    "                      item_alpha=0.4,\n",
    "                      user_alpha=0.1, \n",
    "                      random_state=42,\n",
    "                      k=5,\n",
    "                      n=15,\n",
    "                      max_sampled=100)\n",
    "\n",
    "final_model.fit((test_sparse_user_item > 0) * 1,\n",
    "                sample_weight=coo_matrix(test_user_item_matrix),\n",
    "                epochs=20, \n",
    "                num_threads=4,\n",
    "                verbose=True)"
   ]
  },
  {
   "cell_type": "markdown",
   "metadata": {
    "id": "4-BY5EY0Qp5P"
   },
   "source": [
    "## Прогноз для каждой пары пользователь-категория из примера сабмита"
   ]
  },
  {
   "cell_type": "code",
   "execution_count": 106,
   "metadata": {
    "colab": {
     "base_uri": "https://localhost:8080/",
     "height": 204
    },
    "executionInfo": {
     "elapsed": 402,
     "status": "ok",
     "timestamp": 1630670011751,
     "user": {
      "displayName": "Antony Vasilev",
      "photoUrl": "https://lh3.googleusercontent.com/a-/AOh14GilGtrNFuVwkeguPc63nl_U9jPzz3QJ2HseOLomwA=s64",
      "userId": "06016057077233784130"
     },
     "user_tz": -180
    },
    "id": "Bm4voUdpOM3B",
    "outputId": "4f4c202d-8819-4562-910f-75c43d5f56e2"
   },
   "outputs": [
    {
     "data": {
      "text/html": [
       "<div>\n",
       "<style scoped>\n",
       "    .dataframe tbody tr th:only-of-type {\n",
       "        vertical-align: middle;\n",
       "    }\n",
       "\n",
       "    .dataframe tbody tr th {\n",
       "        vertical-align: top;\n",
       "    }\n",
       "\n",
       "    .dataframe thead th {\n",
       "        text-align: right;\n",
       "    }\n",
       "</style>\n",
       "<table border=\"1\" class=\"dataframe\">\n",
       "  <thead>\n",
       "    <tr style=\"text-align: right;\">\n",
       "      <th></th>\n",
       "      <th>id</th>\n",
       "    </tr>\n",
       "  </thead>\n",
       "  <tbody>\n",
       "    <tr>\n",
       "      <th>0</th>\n",
       "      <td>0;133</td>\n",
       "    </tr>\n",
       "    <tr>\n",
       "      <th>1</th>\n",
       "      <td>0;5</td>\n",
       "    </tr>\n",
       "    <tr>\n",
       "      <th>2</th>\n",
       "      <td>0;10</td>\n",
       "    </tr>\n",
       "    <tr>\n",
       "      <th>3</th>\n",
       "      <td>0;396</td>\n",
       "    </tr>\n",
       "    <tr>\n",
       "      <th>4</th>\n",
       "      <td>0;14</td>\n",
       "    </tr>\n",
       "  </tbody>\n",
       "</table>\n",
       "</div>"
      ],
      "text/plain": [
       "      id\n",
       "0  0;133\n",
       "1    0;5\n",
       "2   0;10\n",
       "3  0;396\n",
       "4   0;14"
      ]
     },
     "execution_count": 106,
     "metadata": {},
     "output_type": "execute_result"
    }
   ],
   "source": [
    "submission_df = pd.read_csv('/gdrive/My Drive/Colab Notebooks/sber/sample_submission.csv')\n",
    "submission_df.drop('target', axis=1, inplace=True)\n",
    "submission_df.reset_index(drop=True)\n",
    "submission_df.head()"
   ]
  },
  {
   "cell_type": "code",
   "execution_count": 107,
   "metadata": {
    "colab": {
     "base_uri": "https://localhost:8080/",
     "height": 204
    },
    "executionInfo": {
     "elapsed": 2516,
     "status": "ok",
     "timestamp": 1630670014264,
     "user": {
      "displayName": "Antony Vasilev",
      "photoUrl": "https://lh3.googleusercontent.com/a-/AOh14GilGtrNFuVwkeguPc63nl_U9jPzz3QJ2HseOLomwA=s64",
      "userId": "06016057077233784130"
     },
     "user_tz": -180
    },
    "id": "XTKvSrj5R5et",
    "outputId": "a9da3627-b91a-4566-f5e2-75f504f40dc9"
   },
   "outputs": [
    {
     "data": {
      "text/html": [
       "<div>\n",
       "<style scoped>\n",
       "    .dataframe tbody tr th:only-of-type {\n",
       "        vertical-align: middle;\n",
       "    }\n",
       "\n",
       "    .dataframe tbody tr th {\n",
       "        vertical-align: top;\n",
       "    }\n",
       "\n",
       "    .dataframe thead th {\n",
       "        text-align: right;\n",
       "    }\n",
       "</style>\n",
       "<table border=\"1\" class=\"dataframe\">\n",
       "  <thead>\n",
       "    <tr style=\"text-align: right;\">\n",
       "      <th></th>\n",
       "      <th>user_id</th>\n",
       "      <th>category_id</th>\n",
       "    </tr>\n",
       "  </thead>\n",
       "  <tbody>\n",
       "    <tr>\n",
       "      <th>0</th>\n",
       "      <td>0</td>\n",
       "      <td>133</td>\n",
       "    </tr>\n",
       "    <tr>\n",
       "      <th>1</th>\n",
       "      <td>0</td>\n",
       "      <td>5</td>\n",
       "    </tr>\n",
       "    <tr>\n",
       "      <th>2</th>\n",
       "      <td>0</td>\n",
       "      <td>10</td>\n",
       "    </tr>\n",
       "    <tr>\n",
       "      <th>3</th>\n",
       "      <td>0</td>\n",
       "      <td>396</td>\n",
       "    </tr>\n",
       "    <tr>\n",
       "      <th>4</th>\n",
       "      <td>0</td>\n",
       "      <td>14</td>\n",
       "    </tr>\n",
       "  </tbody>\n",
       "</table>\n",
       "</div>"
      ],
      "text/plain": [
       "   user_id  category_id\n",
       "0        0          133\n",
       "1        0            5\n",
       "2        0           10\n",
       "3        0          396\n",
       "4        0           14"
      ]
     },
     "execution_count": 107,
     "metadata": {},
     "output_type": "execute_result"
    }
   ],
   "source": [
    "test_df = submission_df['id'].str.split(';', expand=True)\n",
    "test_df.columns = ['user_id', 'category_id']\n",
    "test_df = test_df.astype('int')\n",
    "test_df.head()"
   ]
  },
  {
   "cell_type": "code",
   "execution_count": 108,
   "metadata": {
    "colab": {
     "base_uri": "https://localhost:8080/"
    },
    "executionInfo": {
     "elapsed": 10,
     "status": "ok",
     "timestamp": 1630670014265,
     "user": {
      "displayName": "Antony Vasilev",
      "photoUrl": "https://lh3.googleusercontent.com/a-/AOh14GilGtrNFuVwkeguPc63nl_U9jPzz3QJ2HseOLomwA=s64",
      "userId": "06016057077233784130"
     },
     "user_tz": -180
    },
    "id": "xVLrmZSFWS7F",
    "outputId": "cebb1543-83c8-4b90-dbf8-d5f02450d7a2"
   },
   "outputs": [
    {
     "name": "stdout",
     "output_type": "stream",
     "text": [
      "<class 'pandas.core.frame.DataFrame'>\n",
      "RangeIndex: 790449 entries, 0 to 790448\n",
      "Data columns (total 2 columns):\n",
      " #   Column       Non-Null Count   Dtype\n",
      "---  ------       --------------   -----\n",
      " 0   user_id      790449 non-null  int64\n",
      " 1   category_id  790449 non-null  int64\n",
      "dtypes: int64(2)\n",
      "memory usage: 12.1 MB\n"
     ]
    }
   ],
   "source": [
    "test_df.info()"
   ]
  },
  {
   "cell_type": "code",
   "execution_count": 110,
   "metadata": {
    "executionInfo": {
     "elapsed": 1317,
     "status": "ok",
     "timestamp": 1630670021240,
     "user": {
      "displayName": "Antony Vasilev",
      "photoUrl": "https://lh3.googleusercontent.com/a-/AOh14GilGtrNFuVwkeguPc63nl_U9jPzz3QJ2HseOLomwA=s64",
      "userId": "06016057077233784130"
     },
     "user_tz": -180
    },
    "id": "ZZi9FexcUVRL"
   },
   "outputs": [],
   "source": [
    "test_users_ids_row = test_df['user_id'].apply(lambda x: test_userid_to_id[x]).values.astype(int)\n",
    "test_items_ids_row = test_df['category_id'].apply(lambda x: test_itemid_to_id[x]).values.astype(int)"
   ]
  },
  {
   "cell_type": "code",
   "execution_count": 121,
   "metadata": {
    "executionInfo": {
     "elapsed": 259,
     "status": "ok",
     "timestamp": 1630670568826,
     "user": {
      "displayName": "Antony Vasilev",
      "photoUrl": "https://lh3.googleusercontent.com/a-/AOh14GilGtrNFuVwkeguPc63nl_U9jPzz3QJ2HseOLomwA=s64",
      "userId": "06016057077233784130"
     },
     "user_tz": -180
    },
    "id": "K9Olq_PdVLpa"
   },
   "outputs": [],
   "source": [
    "test_predictions = final_model.predict(user_ids=test_users_ids_row,\n",
    "                            item_ids=test_items_ids_row,\n",
    "                            num_threads=4)\n",
    "test_preds = np.where(test_predictions > -0.25, 1, 0)"
   ]
  },
  {
   "cell_type": "code",
   "execution_count": 122,
   "metadata": {
    "colab": {
     "base_uri": "https://localhost:8080/",
     "height": 204
    },
    "executionInfo": {
     "elapsed": 229,
     "status": "ok",
     "timestamp": 1630670570566,
     "user": {
      "displayName": "Antony Vasilev",
      "photoUrl": "https://lh3.googleusercontent.com/a-/AOh14GilGtrNFuVwkeguPc63nl_U9jPzz3QJ2HseOLomwA=s64",
      "userId": "06016057077233784130"
     },
     "user_tz": -180
    },
    "id": "tdT8ulz3XL4l",
    "outputId": "62f1fa92-6bf4-4b09-a87f-373224bde7d1"
   },
   "outputs": [
    {
     "data": {
      "text/html": [
       "<div>\n",
       "<style scoped>\n",
       "    .dataframe tbody tr th:only-of-type {\n",
       "        vertical-align: middle;\n",
       "    }\n",
       "\n",
       "    .dataframe tbody tr th {\n",
       "        vertical-align: top;\n",
       "    }\n",
       "\n",
       "    .dataframe thead th {\n",
       "        text-align: right;\n",
       "    }\n",
       "</style>\n",
       "<table border=\"1\" class=\"dataframe\">\n",
       "  <thead>\n",
       "    <tr style=\"text-align: right;\">\n",
       "      <th></th>\n",
       "      <th>id</th>\n",
       "      <th>target</th>\n",
       "    </tr>\n",
       "  </thead>\n",
       "  <tbody>\n",
       "    <tr>\n",
       "      <th>0</th>\n",
       "      <td>0;133</td>\n",
       "      <td>1</td>\n",
       "    </tr>\n",
       "    <tr>\n",
       "      <th>1</th>\n",
       "      <td>0;5</td>\n",
       "      <td>1</td>\n",
       "    </tr>\n",
       "    <tr>\n",
       "      <th>2</th>\n",
       "      <td>0;10</td>\n",
       "      <td>1</td>\n",
       "    </tr>\n",
       "    <tr>\n",
       "      <th>3</th>\n",
       "      <td>0;396</td>\n",
       "      <td>1</td>\n",
       "    </tr>\n",
       "    <tr>\n",
       "      <th>4</th>\n",
       "      <td>0;14</td>\n",
       "      <td>1</td>\n",
       "    </tr>\n",
       "  </tbody>\n",
       "</table>\n",
       "</div>"
      ],
      "text/plain": [
       "      id  target\n",
       "0  0;133       1\n",
       "1    0;5       1\n",
       "2   0;10       1\n",
       "3  0;396       1\n",
       "4   0;14       1"
      ]
     },
     "execution_count": 122,
     "metadata": {},
     "output_type": "execute_result"
    }
   ],
   "source": [
    "submission_df['target'] = test_preds\n",
    "submission_df.head()"
   ]
  },
  {
   "cell_type": "code",
   "execution_count": 123,
   "metadata": {
    "colab": {
     "base_uri": "https://localhost:8080/"
    },
    "executionInfo": {
     "elapsed": 240,
     "status": "ok",
     "timestamp": 1630670573301,
     "user": {
      "displayName": "Antony Vasilev",
      "photoUrl": "https://lh3.googleusercontent.com/a-/AOh14GilGtrNFuVwkeguPc63nl_U9jPzz3QJ2HseOLomwA=s64",
      "userId": "06016057077233784130"
     },
     "user_tz": -180
    },
    "id": "asDo8h0yXdVC",
    "outputId": "4c8e6ec4-862d-4b96-f6f0-7948512b6fa2"
   },
   "outputs": [
    {
     "data": {
      "text/plain": [
       "1    764389\n",
       "0     26060\n",
       "Name: target, dtype: int64"
      ]
     },
     "execution_count": 123,
     "metadata": {},
     "output_type": "execute_result"
    }
   ],
   "source": [
    "submission_df.target.value_counts()"
   ]
  },
  {
   "cell_type": "code",
   "execution_count": 125,
   "metadata": {
    "executionInfo": {
     "elapsed": 1426,
     "status": "ok",
     "timestamp": 1630670606200,
     "user": {
      "displayName": "Antony Vasilev",
      "photoUrl": "https://lh3.googleusercontent.com/a-/AOh14GilGtrNFuVwkeguPc63nl_U9jPzz3QJ2HseOLomwA=s64",
      "userId": "06016057077233784130"
     },
     "user_tz": -180
    },
    "id": "YXB1IGsveK1y"
   },
   "outputs": [],
   "source": [
    "submission_df.to_csv('/gdrive/My Drive/Colab Notebooks/sber/AVasilev_submission.csv', sep=',', index=False)"
   ]
  },
  {
   "cell_type": "code",
   "execution_count": null,
   "metadata": {
    "id": "vg4OcUxvesTR"
   },
   "outputs": [],
   "source": []
  }
 ],
 "metadata": {
  "colab": {
   "authorship_tag": "ABX9TyOspf73g6pXFIYyO3qcfsr+",
   "collapsed_sections": [],
   "name": "draft.ipynb",
   "provenance": []
  },
  "hide_input": false,
  "kernelspec": {
   "display_name": "Python 3",
   "language": "python",
   "name": "python3"
  },
  "language_info": {
   "codemirror_mode": {
    "name": "ipython",
    "version": 3
   },
   "file_extension": ".py",
   "mimetype": "text/x-python",
   "name": "python",
   "nbconvert_exporter": "python",
   "pygments_lexer": "ipython3",
   "version": "3.8.5"
  }
 },
 "nbformat": 4,
 "nbformat_minor": 1
}
